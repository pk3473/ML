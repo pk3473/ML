{
 "cells": [
  {
   "cell_type": "markdown",
   "metadata": {},
   "source": [
    "<font color='Blue'><h1><center>Maintainence Cost Reduction</center></h1></font>\n",
    "<font color='Blue'><h1><left>Problem Statement:</left></h1></font> \n",
    "\n",
    "<font color='brown'><p style=\"font-size:1vw;\">Building a predictive model using machine learning to predict the probability of a device failure.</p></font>\n",
    "\n",
    "<font color='Blue'><h1><left>Business Overview:</left></h1></font>\n",
    "  \n",
    "<font color='brown'><p style=\"font-size:1vw;\">A company has a fleet of devices transmitting daily telemetry readings. They would like to create a predictive\n",
    "maintenance solution to proactively identify when maintenance should be performed. This approach promises cost\n",
    "savings over routine or time-based preventive maintenance, because tasks are performed only when warranted.\n",
    "</p></font>  \n"
   ]
  },
  {
   "cell_type": "markdown",
   "metadata": {},
   "source": [
    "<h1>Table of Contents<span class=\"tocSkip\"></span></h1>\n",
    "<div class=\"toc\"><ul class=\"toc-item\"><li><span><a href=\"#Import-Libraries\" data-toc-modified-id=\"Import-Libraries-1\"><span class=\"toc-item-num\">1&nbsp;&nbsp;</span>Import Libraries</a></span></li><li><span><a href=\"#Reading-and-Inspecting-the-Data\" data-toc-modified-id=\"Reading-and-Inspecting-the-Data\"><span class=\"toc-item-num\">2&nbsp;&nbsp;</span>Reading and Inspecting theData</a></span></li><li><span><a href=\"#Exploratory-Data-Analysis\" data-toc-modified-id=\"Exploratory-Data-Analysis-3\"><span class=\"toc-item-num\">3&nbsp;&nbsp;</span>Exploratory Data Analysis</a></span></li><li><span><a href=\"#Splitting-the-Data-into-Test-&amp;-Train-Split\" data-toc-modified-id=\"Splitting-the-Data-into-Test-&amp;-Train-Split\"><span class=\"toc-item-num\">4&nbsp;&nbsp;</span>Splitting the Data into Test &amp; Train Split data</a></span></li><li><span><a href=\"#Apply-Standard-Scalling\" data-toc-modified-id=\"Apply-Standard-Scalling\"><span class=\"toc-item-num\">5&nbsp;&nbsp;</span>Apply Standard Scalling</a></span></li><li><span><a href=\"#Treat-Skewness-of-Variables\" data-toc-modified-id=\"Treat-Skewness-of-Variables-6\"><span class=\"toc-item-num\">6&nbsp;&nbsp;</span>Treat Skewness of Variables</a></span></li><li><span><a href=\"#Summary-from-EDA\" data-toc-modified-id=\"Summary-from-EDA-7\"><span class=\"toc-item-num\">7&nbsp;&nbsp;</span>Summary from EDA</a></span></li><li><span><a href=\"#Model-Building\" data-toc-modified-id=\"Model-Building\"><span class=\"toc-item-num\">8&nbsp;&nbsp;</span>Model Building</a></span></li><li><span><a href=\"#Summary\" data-toc-modified-id=\"Summary\"><span class=\"toc-item-num\">9&nbsp;&nbsp;</span>Summary"
   ]
  },
  {
   "cell_type": "markdown",
   "metadata": {},
   "source": [
    "## Import Libraries"
   ]
  },
  {
   "cell_type": "code",
   "execution_count": 1,
   "metadata": {},
   "outputs": [],
   "source": [
    "import warnings\n",
    "warnings.filterwarnings('ignore')\n",
    "\n",
    "import numpy as np\n",
    "import pandas as pd\n",
    "pd.set_option('display.max_columns', 150)\n",
    "pd.set_option('display.max_rows', 500)\n",
    "\n",
    "import math\n",
    "from sklearn import metrics\n",
    "import itertools\n",
    "from sklearn import preprocessing\n",
    "from sklearn.preprocessing import StandardScaler, PowerTransformer\n",
    "StdScaler = StandardScaler()\n",
    "Pt = PowerTransformer()\n",
    "\n",
    "from sklearn import model_selection\n",
    "from sklearn.model_selection import train_test_split,GridSearchCV,KFold,cross_val_score, StratifiedKFold, RandomizedSearchCV\n",
    "\n",
    "#from imblearn import under_sampling\n",
    "from imblearn.under_sampling import RandomUnderSampler\n",
    "#from imblearn import over_sampling\n",
    "from imblearn.over_sampling import RandomOverSampler,SMOTE,ADASYN\n",
    "from statsmodels.stats.outliers_influence import variance_inflation_factor\n",
    "from sklearn.model_selection import RandomizedSearchCV, GridSearchCV\n",
    "\n",
    "from sklearn import linear_model #import the package\n",
    "import statsmodels.api as sm\n",
    "from sklearn.linear_model import LogisticRegression\n",
    "from sklearn.neighbors import KNeighborsClassifier\n",
    "from sklearn.svm import SVC\n",
    "from sklearn.tree import DecisionTreeClassifier\n",
    "from sklearn.ensemble import RandomForestClassifier\n",
    "from xgboost import XGBClassifier\n",
    "\n",
    "\n",
    "import matplotlib as mpl\n",
    "import matplotlib.pyplot as plt\n",
    "import seaborn as sns\n",
    "%matplotlib inline"
   ]
  },
  {
   "cell_type": "markdown",
   "metadata": {},
   "source": [
    "## Reading and Inspecting the Data"
   ]
  },
  {
   "cell_type": "code",
   "execution_count": 2,
   "metadata": {
    "scrolled": false
   },
   "outputs": [
    {
     "data": {
      "text/html": [
       "<div>\n",
       "<style scoped>\n",
       "    .dataframe tbody tr th:only-of-type {\n",
       "        vertical-align: middle;\n",
       "    }\n",
       "\n",
       "    .dataframe tbody tr th {\n",
       "        vertical-align: top;\n",
       "    }\n",
       "\n",
       "    .dataframe thead th {\n",
       "        text-align: right;\n",
       "    }\n",
       "</style>\n",
       "<table border=\"1\" class=\"dataframe\">\n",
       "  <thead>\n",
       "    <tr style=\"text-align: right;\">\n",
       "      <th></th>\n",
       "      <th>date</th>\n",
       "      <th>device</th>\n",
       "      <th>failure</th>\n",
       "      <th>metric1</th>\n",
       "      <th>metric2</th>\n",
       "      <th>metric3</th>\n",
       "      <th>metric4</th>\n",
       "      <th>metric5</th>\n",
       "      <th>metric6</th>\n",
       "      <th>metric7</th>\n",
       "      <th>metric8</th>\n",
       "      <th>metric9</th>\n",
       "    </tr>\n",
       "  </thead>\n",
       "  <tbody>\n",
       "    <tr>\n",
       "      <td>0</td>\n",
       "      <td>1/1/15</td>\n",
       "      <td>S1F01085</td>\n",
       "      <td>0</td>\n",
       "      <td>215630672</td>\n",
       "      <td>56</td>\n",
       "      <td>0</td>\n",
       "      <td>52</td>\n",
       "      <td>6</td>\n",
       "      <td>407438</td>\n",
       "      <td>0</td>\n",
       "      <td>0</td>\n",
       "      <td>7</td>\n",
       "    </tr>\n",
       "    <tr>\n",
       "      <td>1</td>\n",
       "      <td>1/1/15</td>\n",
       "      <td>S1F0166B</td>\n",
       "      <td>0</td>\n",
       "      <td>61370680</td>\n",
       "      <td>0</td>\n",
       "      <td>3</td>\n",
       "      <td>0</td>\n",
       "      <td>6</td>\n",
       "      <td>403174</td>\n",
       "      <td>0</td>\n",
       "      <td>0</td>\n",
       "      <td>0</td>\n",
       "    </tr>\n",
       "    <tr>\n",
       "      <td>2</td>\n",
       "      <td>1/1/15</td>\n",
       "      <td>S1F01E6Y</td>\n",
       "      <td>0</td>\n",
       "      <td>173295968</td>\n",
       "      <td>0</td>\n",
       "      <td>0</td>\n",
       "      <td>0</td>\n",
       "      <td>12</td>\n",
       "      <td>237394</td>\n",
       "      <td>0</td>\n",
       "      <td>0</td>\n",
       "      <td>0</td>\n",
       "    </tr>\n",
       "    <tr>\n",
       "      <td>3</td>\n",
       "      <td>1/1/15</td>\n",
       "      <td>S1F01JE0</td>\n",
       "      <td>0</td>\n",
       "      <td>79694024</td>\n",
       "      <td>0</td>\n",
       "      <td>0</td>\n",
       "      <td>0</td>\n",
       "      <td>6</td>\n",
       "      <td>410186</td>\n",
       "      <td>0</td>\n",
       "      <td>0</td>\n",
       "      <td>0</td>\n",
       "    </tr>\n",
       "    <tr>\n",
       "      <td>4</td>\n",
       "      <td>1/1/15</td>\n",
       "      <td>S1F01R2B</td>\n",
       "      <td>0</td>\n",
       "      <td>135970480</td>\n",
       "      <td>0</td>\n",
       "      <td>0</td>\n",
       "      <td>0</td>\n",
       "      <td>15</td>\n",
       "      <td>313173</td>\n",
       "      <td>0</td>\n",
       "      <td>0</td>\n",
       "      <td>3</td>\n",
       "    </tr>\n",
       "  </tbody>\n",
       "</table>\n",
       "</div>"
      ],
      "text/plain": [
       "     date    device  failure    metric1  metric2  metric3  metric4  metric5  \\\n",
       "0  1/1/15  S1F01085        0  215630672       56        0       52        6   \n",
       "1  1/1/15  S1F0166B        0   61370680        0        3        0        6   \n",
       "2  1/1/15  S1F01E6Y        0  173295968        0        0        0       12   \n",
       "3  1/1/15  S1F01JE0        0   79694024        0        0        0        6   \n",
       "4  1/1/15  S1F01R2B        0  135970480        0        0        0       15   \n",
       "\n",
       "   metric6  metric7  metric8  metric9  \n",
       "0   407438        0        0        7  \n",
       "1   403174        0        0        0  \n",
       "2   237394        0        0        0  \n",
       "3   410186        0        0        0  \n",
       "4   313173        0        0        3  "
      ]
     },
     "execution_count": 2,
     "metadata": {},
     "output_type": "execute_result"
    }
   ],
   "source": [
    "df = pd.read_csv('predictive_maintenance.csv')\n",
    "df.head()"
   ]
  },
  {
   "cell_type": "code",
   "execution_count": 3,
   "metadata": {},
   "outputs": [
    {
     "name": "stdout",
     "output_type": "stream",
     "text": [
      "           date    device  failure    metric1  metric2  metric3  metric4  \\\n",
      "101335  7/10/15  S1F0R4Q8        0  192721392        0        0        0   \n",
      "\n",
      "        metric5  metric6  metric7  metric8  metric9  \n",
      "101335        8   213700        0        0        0  \n"
     ]
    }
   ],
   "source": [
    "# Checking Duplicates\n",
    "\n",
    "duplicate_rows = df[df.duplicated()]\n",
    "print(duplicate_rows)"
   ]
  },
  {
   "cell_type": "code",
   "execution_count": 4,
   "metadata": {},
   "outputs": [
    {
     "data": {
      "text/plain": [
       "date       0\n",
       "device     0\n",
       "failure    0\n",
       "metric1    0\n",
       "metric2    0\n",
       "metric3    0\n",
       "metric4    0\n",
       "metric5    0\n",
       "metric6    0\n",
       "metric7    0\n",
       "metric8    0\n",
       "metric9    0\n",
       "dtype: int64"
      ]
     },
     "execution_count": 4,
     "metadata": {},
     "output_type": "execute_result"
    }
   ],
   "source": [
    "# Checking Missing Values\n",
    "\n",
    "df.isnull().sum()"
   ]
  },
  {
   "cell_type": "markdown",
   "metadata": {},
   "source": [
    "There is no missing values in the dataset"
   ]
  },
  {
   "cell_type": "code",
   "execution_count": 5,
   "metadata": {},
   "outputs": [
    {
     "name": "stdout",
     "output_type": "stream",
     "text": [
      "<class 'pandas.core.frame.DataFrame'>\n",
      "RangeIndex: 124494 entries, 0 to 124493\n",
      "Data columns (total 12 columns):\n",
      "date       124494 non-null object\n",
      "device     124494 non-null object\n",
      "failure    124494 non-null int64\n",
      "metric1    124494 non-null int64\n",
      "metric2    124494 non-null int64\n",
      "metric3    124494 non-null int64\n",
      "metric4    124494 non-null int64\n",
      "metric5    124494 non-null int64\n",
      "metric6    124494 non-null int64\n",
      "metric7    124494 non-null int64\n",
      "metric8    124494 non-null int64\n",
      "metric9    124494 non-null int64\n",
      "dtypes: int64(10), object(2)\n",
      "memory usage: 11.4+ MB\n"
     ]
    }
   ],
   "source": [
    "# Inspecting the Dataframe\n",
    "\n",
    "df.info()"
   ]
  },
  {
   "cell_type": "code",
   "execution_count": 6,
   "metadata": {
    "scrolled": false
   },
   "outputs": [
    {
     "data": {
      "text/html": [
       "<div>\n",
       "<style scoped>\n",
       "    .dataframe tbody tr th:only-of-type {\n",
       "        vertical-align: middle;\n",
       "    }\n",
       "\n",
       "    .dataframe tbody tr th {\n",
       "        vertical-align: top;\n",
       "    }\n",
       "\n",
       "    .dataframe thead th {\n",
       "        text-align: right;\n",
       "    }\n",
       "</style>\n",
       "<table border=\"1\" class=\"dataframe\">\n",
       "  <thead>\n",
       "    <tr style=\"text-align: right;\">\n",
       "      <th></th>\n",
       "      <th>failure</th>\n",
       "      <th>metric1</th>\n",
       "      <th>metric2</th>\n",
       "      <th>metric3</th>\n",
       "      <th>metric4</th>\n",
       "      <th>metric5</th>\n",
       "      <th>metric6</th>\n",
       "      <th>metric7</th>\n",
       "      <th>metric8</th>\n",
       "      <th>metric9</th>\n",
       "    </tr>\n",
       "  </thead>\n",
       "  <tbody>\n",
       "    <tr>\n",
       "      <td>count</td>\n",
       "      <td>124494.000000</td>\n",
       "      <td>1.244940e+05</td>\n",
       "      <td>124494.000000</td>\n",
       "      <td>124494.000000</td>\n",
       "      <td>124494.000000</td>\n",
       "      <td>124494.000000</td>\n",
       "      <td>124494.000000</td>\n",
       "      <td>124494.000000</td>\n",
       "      <td>124494.000000</td>\n",
       "      <td>124494.000000</td>\n",
       "    </tr>\n",
       "    <tr>\n",
       "      <td>mean</td>\n",
       "      <td>0.000851</td>\n",
       "      <td>1.223881e+08</td>\n",
       "      <td>159.484762</td>\n",
       "      <td>9.940455</td>\n",
       "      <td>1.741120</td>\n",
       "      <td>14.222669</td>\n",
       "      <td>260172.657726</td>\n",
       "      <td>0.292528</td>\n",
       "      <td>0.292528</td>\n",
       "      <td>12.451524</td>\n",
       "    </tr>\n",
       "    <tr>\n",
       "      <td>std</td>\n",
       "      <td>0.029167</td>\n",
       "      <td>7.045933e+07</td>\n",
       "      <td>2179.657730</td>\n",
       "      <td>185.747321</td>\n",
       "      <td>22.908507</td>\n",
       "      <td>15.943028</td>\n",
       "      <td>99151.078547</td>\n",
       "      <td>7.436924</td>\n",
       "      <td>7.436924</td>\n",
       "      <td>191.425623</td>\n",
       "    </tr>\n",
       "    <tr>\n",
       "      <td>min</td>\n",
       "      <td>0.000000</td>\n",
       "      <td>0.000000e+00</td>\n",
       "      <td>0.000000</td>\n",
       "      <td>0.000000</td>\n",
       "      <td>0.000000</td>\n",
       "      <td>1.000000</td>\n",
       "      <td>8.000000</td>\n",
       "      <td>0.000000</td>\n",
       "      <td>0.000000</td>\n",
       "      <td>0.000000</td>\n",
       "    </tr>\n",
       "    <tr>\n",
       "      <td>25%</td>\n",
       "      <td>0.000000</td>\n",
       "      <td>6.128476e+07</td>\n",
       "      <td>0.000000</td>\n",
       "      <td>0.000000</td>\n",
       "      <td>0.000000</td>\n",
       "      <td>8.000000</td>\n",
       "      <td>221452.000000</td>\n",
       "      <td>0.000000</td>\n",
       "      <td>0.000000</td>\n",
       "      <td>0.000000</td>\n",
       "    </tr>\n",
       "    <tr>\n",
       "      <td>50%</td>\n",
       "      <td>0.000000</td>\n",
       "      <td>1.227974e+08</td>\n",
       "      <td>0.000000</td>\n",
       "      <td>0.000000</td>\n",
       "      <td>0.000000</td>\n",
       "      <td>10.000000</td>\n",
       "      <td>249799.500000</td>\n",
       "      <td>0.000000</td>\n",
       "      <td>0.000000</td>\n",
       "      <td>0.000000</td>\n",
       "    </tr>\n",
       "    <tr>\n",
       "      <td>75%</td>\n",
       "      <td>0.000000</td>\n",
       "      <td>1.833096e+08</td>\n",
       "      <td>0.000000</td>\n",
       "      <td>0.000000</td>\n",
       "      <td>0.000000</td>\n",
       "      <td>12.000000</td>\n",
       "      <td>310266.000000</td>\n",
       "      <td>0.000000</td>\n",
       "      <td>0.000000</td>\n",
       "      <td>0.000000</td>\n",
       "    </tr>\n",
       "    <tr>\n",
       "      <td>max</td>\n",
       "      <td>1.000000</td>\n",
       "      <td>2.441405e+08</td>\n",
       "      <td>64968.000000</td>\n",
       "      <td>24929.000000</td>\n",
       "      <td>1666.000000</td>\n",
       "      <td>98.000000</td>\n",
       "      <td>689161.000000</td>\n",
       "      <td>832.000000</td>\n",
       "      <td>832.000000</td>\n",
       "      <td>18701.000000</td>\n",
       "    </tr>\n",
       "  </tbody>\n",
       "</table>\n",
       "</div>"
      ],
      "text/plain": [
       "             failure       metric1        metric2        metric3  \\\n",
       "count  124494.000000  1.244940e+05  124494.000000  124494.000000   \n",
       "mean        0.000851  1.223881e+08     159.484762       9.940455   \n",
       "std         0.029167  7.045933e+07    2179.657730     185.747321   \n",
       "min         0.000000  0.000000e+00       0.000000       0.000000   \n",
       "25%         0.000000  6.128476e+07       0.000000       0.000000   \n",
       "50%         0.000000  1.227974e+08       0.000000       0.000000   \n",
       "75%         0.000000  1.833096e+08       0.000000       0.000000   \n",
       "max         1.000000  2.441405e+08   64968.000000   24929.000000   \n",
       "\n",
       "             metric4        metric5        metric6        metric7  \\\n",
       "count  124494.000000  124494.000000  124494.000000  124494.000000   \n",
       "mean        1.741120      14.222669  260172.657726       0.292528   \n",
       "std        22.908507      15.943028   99151.078547       7.436924   \n",
       "min         0.000000       1.000000       8.000000       0.000000   \n",
       "25%         0.000000       8.000000  221452.000000       0.000000   \n",
       "50%         0.000000      10.000000  249799.500000       0.000000   \n",
       "75%         0.000000      12.000000  310266.000000       0.000000   \n",
       "max      1666.000000      98.000000  689161.000000     832.000000   \n",
       "\n",
       "             metric8        metric9  \n",
       "count  124494.000000  124494.000000  \n",
       "mean        0.292528      12.451524  \n",
       "std         7.436924     191.425623  \n",
       "min         0.000000       0.000000  \n",
       "25%         0.000000       0.000000  \n",
       "50%         0.000000       0.000000  \n",
       "75%         0.000000       0.000000  \n",
       "max       832.000000   18701.000000  "
      ]
     },
     "execution_count": 6,
     "metadata": {},
     "output_type": "execute_result"
    }
   ],
   "source": [
    "# Viewing the distribution of data\n",
    "\n",
    "df.describe()"
   ]
  },
  {
   "cell_type": "code",
   "execution_count": 7,
   "metadata": {},
   "outputs": [
    {
     "data": {
      "text/plain": [
       "0        118110\n",
       "2344        281\n",
       "8           260\n",
       "24          254\n",
       "40          201\n",
       "          ...  \n",
       "3288          1\n",
       "3352          1\n",
       "3800          1\n",
       "21200         1\n",
       "44232         1\n",
       "Name: metric2, Length: 558, dtype: int64"
      ]
     },
     "execution_count": 7,
     "metadata": {},
     "output_type": "execute_result"
    }
   ],
   "source": [
    "df.metric2.value_counts()"
   ]
  },
  {
   "cell_type": "code",
   "execution_count": 8,
   "metadata": {},
   "outputs": [
    {
     "data": {
      "text/plain": [
       "0        118110\n",
       "2344        281\n",
       "8           260\n",
       "24          254\n",
       "40          201\n",
       "          ...  \n",
       "3288          1\n",
       "3352          1\n",
       "3800          1\n",
       "21200         1\n",
       "44232         1\n",
       "Name: metric2, Length: 558, dtype: int64"
      ]
     },
     "execution_count": 8,
     "metadata": {},
     "output_type": "execute_result"
    }
   ],
   "source": [
    "df.metric2.value_counts()"
   ]
  },
  {
   "cell_type": "markdown",
   "metadata": {},
   "source": [
    "<font color='Blue'>\n",
    "We can observe Metric 1 and Metric 6 has high magnitude compare with rest of the metrics, so scaling these features are important."
   ]
  },
  {
   "cell_type": "markdown",
   "metadata": {},
   "source": [
    "## Exploratory Data Analysis"
   ]
  },
  {
   "cell_type": "markdown",
   "metadata": {},
   "source": [
    "<font color='Brown'>\n",
    "\n",
    "Performing Univariate Analysis to view the outliers present in the metrics"
   ]
  },
  {
   "cell_type": "code",
   "execution_count": 9,
   "metadata": {},
   "outputs": [
    {
     "data": {
      "image/png": "[encoded data removed]",
      "text/plain": [
       "<Figure size 1440x432 with 3 Axes>"
      ]
     },
     "metadata": {
      "needs_background": "light"
     },
     "output_type": "display_data"
    }
   ],
   "source": [
    "fig = plt.figure(figsize=(20, 6)) \n",
    "\n",
    "plt.subplot(131)\n",
    "sns.boxenplot(x ='failure', y = 'metric1', hue ='failure' , data = df)\n",
    "\n",
    "plt.subplot(132)\n",
    "sns.boxenplot(x ='failure', y = 'metric2', hue ='failure' , data = df)\n",
    "\n",
    "plt.subplot(133)\n",
    "sns.boxenplot(x ='failure', y = 'metric3', hue ='failure' , data = df)\n",
    "\n",
    "fig.suptitle('Univariate analysis on Metrics',fontsize=20,x =0.5, y=1)\n",
    "\n",
    "plt.show()"
   ]
  },
  {
   "cell_type": "code",
   "execution_count": 10,
   "metadata": {},
   "outputs": [
    {
     "data": {
      "image/png": "[encoded data removed]",
      "text/plain": [
       "<Figure size 1440x432 with 3 Axes>"
      ]
     },
     "metadata": {
      "needs_background": "light"
     },
     "output_type": "display_data"
    }
   ],
   "source": [
    "fig = plt.figure(figsize=(20, 6)) \n",
    "\n",
    "plt.subplot(131)\n",
    "sns.boxenplot(x ='failure', y = 'metric4', hue ='failure' , data = df)\n",
    "\n",
    "plt.subplot(132)\n",
    "sns.boxenplot(x ='failure', y = 'metric5', hue ='failure' , data = df)\n",
    "\n",
    "plt.subplot(133)\n",
    "sns.boxenplot(x ='failure', y = 'metric6', hue ='failure' , data = df)\n",
    "\n",
    "plt.show()"
   ]
  },
  {
   "cell_type": "code",
   "execution_count": 11,
   "metadata": {},
   "outputs": [
    {
     "data": {
      "image/png": "[encoded data removed]",
      "text/plain": [
       "<Figure size 1440x432 with 3 Axes>"
      ]
     },
     "metadata": {
      "needs_background": "light"
     },
     "output_type": "display_data"
    }
   ],
   "source": [
    "fig = plt.figure(figsize=(20, 6)) \n",
    "\n",
    "plt.subplot(131)\n",
    "sns.boxenplot(x ='failure', y = 'metric7', hue ='failure' , data = df)\n",
    "\n",
    "plt.subplot(132)\n",
    "sns.boxenplot(x ='failure', y = 'metric8', hue ='failure' , data = df)\n",
    "\n",
    "plt.subplot(133)\n",
    "sns.boxenplot(x ='failure', y = 'metric9', hue ='failure' , data = df)\n",
    "\n",
    "plt.show()"
   ]
  },
  {
   "cell_type": "markdown",
   "metadata": {},
   "source": [
    "We can see lot of outliers in most of the metrics. So we will be handling the Oulier Treatment further."
   ]
  },
  {
   "cell_type": "code",
   "execution_count": 12,
   "metadata": {},
   "outputs": [
    {
     "data": {
      "image/png": "[encoded data removed]",
      "text/plain": [
       "<Figure size 864x576 with 2 Axes>"
      ]
     },
     "metadata": {
      "needs_background": "light"
     },
     "output_type": "display_data"
    }
   ],
   "source": [
    "# Checking the Correlation between the Features\n",
    "\n",
    "plt.figure(figsize = (12,8))\n",
    "sns.heatmap(df.corr(),annot=True,annot_kws={\"size\": 12})\n",
    "plt.title('Correlation Map\\n',fontsize = 15)\n",
    "plt.show()"
   ]
  },
  {
   "cell_type": "markdown",
   "metadata": {},
   "source": [
    "We can see clearly see Metric 7 and Metric 8 and highly correlated. So we can keep only one metric justifying further."
   ]
  },
  {
   "cell_type": "code",
   "execution_count": 13,
   "metadata": {},
   "outputs": [
    {
     "data": {
      "text/html": [
       "<div>\n",
       "<style scoped>\n",
       "    .dataframe tbody tr th:only-of-type {\n",
       "        vertical-align: middle;\n",
       "    }\n",
       "\n",
       "    .dataframe tbody tr th {\n",
       "        vertical-align: top;\n",
       "    }\n",
       "\n",
       "    .dataframe thead th {\n",
       "        text-align: right;\n",
       "    }\n",
       "</style>\n",
       "<table border=\"1\" class=\"dataframe\">\n",
       "  <thead>\n",
       "    <tr style=\"text-align: right;\">\n",
       "      <th></th>\n",
       "      <th>metric1</th>\n",
       "      <th>metric2</th>\n",
       "      <th>metric3</th>\n",
       "      <th>metric4</th>\n",
       "      <th>metric5</th>\n",
       "      <th>metric6</th>\n",
       "      <th>metric7</th>\n",
       "      <th>metric8</th>\n",
       "      <th>metric9</th>\n",
       "    </tr>\n",
       "  </thead>\n",
       "  <tbody>\n",
       "    <tr>\n",
       "      <td>0</td>\n",
       "      <td>215630672</td>\n",
       "      <td>56</td>\n",
       "      <td>0</td>\n",
       "      <td>52</td>\n",
       "      <td>6</td>\n",
       "      <td>407438</td>\n",
       "      <td>0</td>\n",
       "      <td>0</td>\n",
       "      <td>7</td>\n",
       "    </tr>\n",
       "    <tr>\n",
       "      <td>1</td>\n",
       "      <td>61370680</td>\n",
       "      <td>0</td>\n",
       "      <td>3</td>\n",
       "      <td>0</td>\n",
       "      <td>6</td>\n",
       "      <td>403174</td>\n",
       "      <td>0</td>\n",
       "      <td>0</td>\n",
       "      <td>0</td>\n",
       "    </tr>\n",
       "    <tr>\n",
       "      <td>2</td>\n",
       "      <td>173295968</td>\n",
       "      <td>0</td>\n",
       "      <td>0</td>\n",
       "      <td>0</td>\n",
       "      <td>12</td>\n",
       "      <td>237394</td>\n",
       "      <td>0</td>\n",
       "      <td>0</td>\n",
       "      <td>0</td>\n",
       "    </tr>\n",
       "    <tr>\n",
       "      <td>3</td>\n",
       "      <td>79694024</td>\n",
       "      <td>0</td>\n",
       "      <td>0</td>\n",
       "      <td>0</td>\n",
       "      <td>6</td>\n",
       "      <td>410186</td>\n",
       "      <td>0</td>\n",
       "      <td>0</td>\n",
       "      <td>0</td>\n",
       "    </tr>\n",
       "    <tr>\n",
       "      <td>4</td>\n",
       "      <td>135970480</td>\n",
       "      <td>0</td>\n",
       "      <td>0</td>\n",
       "      <td>0</td>\n",
       "      <td>15</td>\n",
       "      <td>313173</td>\n",
       "      <td>0</td>\n",
       "      <td>0</td>\n",
       "      <td>3</td>\n",
       "    </tr>\n",
       "  </tbody>\n",
       "</table>\n",
       "</div>"
      ],
      "text/plain": [
       "     metric1  metric2  metric3  metric4  metric5  metric6  metric7  metric8  \\\n",
       "0  215630672       56        0       52        6   407438        0        0   \n",
       "1   61370680        0        3        0        6   403174        0        0   \n",
       "2  173295968        0        0        0       12   237394        0        0   \n",
       "3   79694024        0        0        0        6   410186        0        0   \n",
       "4  135970480        0        0        0       15   313173        0        0   \n",
       "\n",
       "   metric9  \n",
       "0        7  \n",
       "1        0  \n",
       "2        0  \n",
       "3        0  \n",
       "4        3  "
      ]
     },
     "execution_count": 13,
     "metadata": {},
     "output_type": "execute_result"
    }
   ],
   "source": [
    "#Checking the distribution of Metrics\n",
    "\n",
    "#Creating the new dataframe to see distribution of metrics\n",
    "\n",
    "df_metrics = df.drop(labels = ['date','device','failure'],axis = 1).copy()\n",
    "\n",
    "df_metrics.head()"
   ]
  },
  {
   "cell_type": "code",
   "execution_count": 14,
   "metadata": {},
   "outputs": [
    {
     "data": {
      "image/png": "[encoded data removed]",
      "text/plain": [
       "<Figure size 1080x576 with 9 Axes>"
      ]
     },
     "metadata": {
      "needs_background": "light"
     },
     "output_type": "display_data"
    }
   ],
   "source": [
    "fig,axes = plt.subplots(3,3,figsize=(15,8))\n",
    "count = 0\n",
    "for i in df_metrics.columns[:-1]:\n",
    "    ax = axes[count//3, count%3]\n",
    "    sns.distplot(df_metrics[i], ax=ax)\n",
    "    count+=1\n",
    "fig.suptitle('Univariate Analysis Distribution Plot', fontsize = 20,x =0.5, y=0.92)\n",
    "fig.subplots_adjust(wspace=0.5,hspace=0.5 ) \n",
    "plt.show()"
   ]
  },
  {
   "cell_type": "code",
   "execution_count": 15,
   "metadata": {
    "scrolled": true
   },
   "outputs": [
    {
     "data": {
      "image/png": "[encoded data removed]",
      "text/plain": [
       "<Figure size 432x288 with 1 Axes>"
      ]
     },
     "metadata": {
      "needs_background": "light"
     },
     "output_type": "display_data"
    }
   ],
   "source": [
    "sns.distplot(df_metrics['metric9'])\n",
    "plt.show()"
   ]
  },
  {
   "cell_type": "markdown",
   "metadata": {},
   "source": [
    "It is clearly visible that there is skweness in the data."
   ]
  },
  {
   "cell_type": "code",
   "execution_count": 16,
   "metadata": {},
   "outputs": [
    {
     "data": {
      "image/png": "[encoded data removed]",
      "text/plain": [
       "<Figure size 1080x576 with 9 Axes>"
      ]
     },
     "metadata": {
      "needs_background": "light"
     },
     "output_type": "display_data"
    }
   ],
   "source": [
    "fig,axes = plt.subplots(3,3,figsize=(15,8))\n",
    "count = 0\n",
    "for i in df_metrics.columns[:-1]:\n",
    "    ax = axes[count//3, count%3]\n",
    "    sns.boxplot(df_metrics[i], ax=ax)\n",
    "    count+=1\n",
    "fig.subplots_adjust(wspace=0.5,hspace=0.5 ) \n",
    "plt.show()"
   ]
  },
  {
   "cell_type": "code",
   "execution_count": 17,
   "metadata": {},
   "outputs": [
    {
     "data": {
      "image/png": "[encoded data removed]",
      "text/plain": [
       "<Figure size 432x288 with 1 Axes>"
      ]
     },
     "metadata": {
      "needs_background": "light"
     },
     "output_type": "display_data"
    }
   ],
   "source": [
    "sns.boxplot(df_metrics['metric9'])\n",
    "plt.show()"
   ]
  },
  {
   "cell_type": "markdown",
   "metadata": {},
   "source": [
    "### Performing Outlier Treatment"
   ]
  },
  {
   "cell_type": "code",
   "execution_count": 18,
   "metadata": {},
   "outputs": [],
   "source": [
    "# Defining function for filtering outliers\n",
    "\n",
    "def filter_OutLiers(df,column_name):\n",
    "    Q1 = df[column_name].quantile(0.05)\n",
    "    Q3 = df[column_name].quantile(0.95)\n",
    "    IQR = Q3 - Q1\n",
    "    df_temp = df.loc[((df[column_name] >= (Q1 - 1.5 * IQR)) & (df[column_name] <= (Q3 + 1.5 * IQR)))]\n",
    "    return(df_temp)"
   ]
  },
  {
   "cell_type": "code",
   "execution_count": 19,
   "metadata": {},
   "outputs": [
    {
     "data": {
      "text/plain": [
       "(106225, 12)"
      ]
     },
     "execution_count": 19,
     "metadata": {},
     "output_type": "execute_result"
    }
   ],
   "source": [
    "# Outliers treatment on df_leads numerical variables\n",
    "for i in df_metrics[0:]:\n",
    "    df = filter_OutLiers(df,i).copy()\n",
    "df.shape"
   ]
  },
  {
   "cell_type": "code",
   "execution_count": 20,
   "metadata": {},
   "outputs": [],
   "source": [
    "df_metrics = df.drop(labels = ['date','device','failure'],axis = 1).copy()"
   ]
  },
  {
   "cell_type": "code",
   "execution_count": 21,
   "metadata": {},
   "outputs": [
    {
     "data": {
      "image/png": "[encoded data removed]",
      "text/plain": [
       "<Figure size 1080x576 with 9 Axes>"
      ]
     },
     "metadata": {
      "needs_background": "light"
     },
     "output_type": "display_data"
    }
   ],
   "source": [
    "fig,axes = plt.subplots(3,3,figsize=(15,8))\n",
    "count = 0\n",
    "for i in df_metrics.columns[:-1]:\n",
    "    ax = axes[count//3, count%3]\n",
    "    sns.boxplot(df_metrics[i], ax=ax)\n",
    "    count+=1\n",
    "fig.subplots_adjust(wspace=0.5,hspace=0.5 ) \n",
    "plt.show()"
   ]
  },
  {
   "cell_type": "code",
   "execution_count": 22,
   "metadata": {
    "scrolled": true
   },
   "outputs": [
    {
     "data": {
      "image/png": "[encoded data removed]",
      "text/plain": [
       "<Figure size 432x288 with 1 Axes>"
      ]
     },
     "metadata": {
      "needs_background": "light"
     },
     "output_type": "display_data"
    }
   ],
   "source": [
    "sns.boxplot(df_metrics['metric9'])\n",
    "plt.show()"
   ]
  },
  {
   "cell_type": "code",
   "execution_count": 23,
   "metadata": {
    "scrolled": true
   },
   "outputs": [
    {
     "data": {
      "text/html": [
       "<div>\n",
       "<style scoped>\n",
       "    .dataframe tbody tr th:only-of-type {\n",
       "        vertical-align: middle;\n",
       "    }\n",
       "\n",
       "    .dataframe tbody tr th {\n",
       "        vertical-align: top;\n",
       "    }\n",
       "\n",
       "    .dataframe thead th {\n",
       "        text-align: right;\n",
       "    }\n",
       "</style>\n",
       "<table border=\"1\" class=\"dataframe\">\n",
       "  <thead>\n",
       "    <tr style=\"text-align: right;\">\n",
       "      <th></th>\n",
       "      <th>failure</th>\n",
       "      <th>metric1</th>\n",
       "      <th>metric2</th>\n",
       "      <th>metric3</th>\n",
       "      <th>metric4</th>\n",
       "      <th>metric5</th>\n",
       "      <th>metric6</th>\n",
       "      <th>metric7</th>\n",
       "      <th>metric8</th>\n",
       "      <th>metric9</th>\n",
       "    </tr>\n",
       "  </thead>\n",
       "  <tbody>\n",
       "    <tr>\n",
       "      <td>count</td>\n",
       "      <td>106225.000000</td>\n",
       "      <td>1.062250e+05</td>\n",
       "      <td>106225.000000</td>\n",
       "      <td>106225.000000</td>\n",
       "      <td>106225.000000</td>\n",
       "      <td>106225.000000</td>\n",
       "      <td>106225.000000</td>\n",
       "      <td>106225.0</td>\n",
       "      <td>106225.0</td>\n",
       "      <td>106225.000000</td>\n",
       "    </tr>\n",
       "    <tr>\n",
       "      <td>mean</td>\n",
       "      <td>0.000245</td>\n",
       "      <td>1.223594e+08</td>\n",
       "      <td>0.038861</td>\n",
       "      <td>0.024768</td>\n",
       "      <td>0.038202</td>\n",
       "      <td>13.529037</td>\n",
       "      <td>261534.894865</td>\n",
       "      <td>0.0</td>\n",
       "      <td>0.0</td>\n",
       "      <td>0.576729</td>\n",
       "    </tr>\n",
       "    <tr>\n",
       "      <td>std</td>\n",
       "      <td>0.015643</td>\n",
       "      <td>7.042714e+07</td>\n",
       "      <td>0.698370</td>\n",
       "      <td>0.175396</td>\n",
       "      <td>0.345432</td>\n",
       "      <td>14.494294</td>\n",
       "      <td>99315.159139</td>\n",
       "      <td>0.0</td>\n",
       "      <td>0.0</td>\n",
       "      <td>1.817211</td>\n",
       "    </tr>\n",
       "    <tr>\n",
       "      <td>min</td>\n",
       "      <td>0.000000</td>\n",
       "      <td>0.000000e+00</td>\n",
       "      <td>0.000000</td>\n",
       "      <td>0.000000</td>\n",
       "      <td>0.000000</td>\n",
       "      <td>1.000000</td>\n",
       "      <td>8.000000</td>\n",
       "      <td>0.0</td>\n",
       "      <td>0.0</td>\n",
       "      <td>0.000000</td>\n",
       "    </tr>\n",
       "    <tr>\n",
       "      <td>25%</td>\n",
       "      <td>0.000000</td>\n",
       "      <td>6.129916e+07</td>\n",
       "      <td>0.000000</td>\n",
       "      <td>0.000000</td>\n",
       "      <td>0.000000</td>\n",
       "      <td>8.000000</td>\n",
       "      <td>221423.000000</td>\n",
       "      <td>0.0</td>\n",
       "      <td>0.0</td>\n",
       "      <td>0.000000</td>\n",
       "    </tr>\n",
       "    <tr>\n",
       "      <td>50%</td>\n",
       "      <td>0.000000</td>\n",
       "      <td>1.226797e+08</td>\n",
       "      <td>0.000000</td>\n",
       "      <td>0.000000</td>\n",
       "      <td>0.000000</td>\n",
       "      <td>9.000000</td>\n",
       "      <td>249179.000000</td>\n",
       "      <td>0.0</td>\n",
       "      <td>0.0</td>\n",
       "      <td>0.000000</td>\n",
       "    </tr>\n",
       "    <tr>\n",
       "      <td>75%</td>\n",
       "      <td>0.000000</td>\n",
       "      <td>1.833257e+08</td>\n",
       "      <td>0.000000</td>\n",
       "      <td>0.000000</td>\n",
       "      <td>0.000000</td>\n",
       "      <td>12.000000</td>\n",
       "      <td>310504.000000</td>\n",
       "      <td>0.0</td>\n",
       "      <td>0.0</td>\n",
       "      <td>0.000000</td>\n",
       "    </tr>\n",
       "    <tr>\n",
       "      <td>max</td>\n",
       "      <td>1.000000</td>\n",
       "      <td>2.441386e+08</td>\n",
       "      <td>16.000000</td>\n",
       "      <td>2.000000</td>\n",
       "      <td>5.000000</td>\n",
       "      <td>94.000000</td>\n",
       "      <td>689161.000000</td>\n",
       "      <td>0.0</td>\n",
       "      <td>0.0</td>\n",
       "      <td>15.000000</td>\n",
       "    </tr>\n",
       "  </tbody>\n",
       "</table>\n",
       "</div>"
      ],
      "text/plain": [
       "             failure       metric1        metric2        metric3  \\\n",
       "count  106225.000000  1.062250e+05  106225.000000  106225.000000   \n",
       "mean        0.000245  1.223594e+08       0.038861       0.024768   \n",
       "std         0.015643  7.042714e+07       0.698370       0.175396   \n",
       "min         0.000000  0.000000e+00       0.000000       0.000000   \n",
       "25%         0.000000  6.129916e+07       0.000000       0.000000   \n",
       "50%         0.000000  1.226797e+08       0.000000       0.000000   \n",
       "75%         0.000000  1.833257e+08       0.000000       0.000000   \n",
       "max         1.000000  2.441386e+08      16.000000       2.000000   \n",
       "\n",
       "             metric4        metric5        metric6   metric7   metric8  \\\n",
       "count  106225.000000  106225.000000  106225.000000  106225.0  106225.0   \n",
       "mean        0.038202      13.529037  261534.894865       0.0       0.0   \n",
       "std         0.345432      14.494294   99315.159139       0.0       0.0   \n",
       "min         0.000000       1.000000       8.000000       0.0       0.0   \n",
       "25%         0.000000       8.000000  221423.000000       0.0       0.0   \n",
       "50%         0.000000       9.000000  249179.000000       0.0       0.0   \n",
       "75%         0.000000      12.000000  310504.000000       0.0       0.0   \n",
       "max         5.000000      94.000000  689161.000000       0.0       0.0   \n",
       "\n",
       "             metric9  \n",
       "count  106225.000000  \n",
       "mean        0.576729  \n",
       "std         1.817211  \n",
       "min         0.000000  \n",
       "25%         0.000000  \n",
       "50%         0.000000  \n",
       "75%         0.000000  \n",
       "max        15.000000  "
      ]
     },
     "execution_count": 23,
     "metadata": {},
     "output_type": "execute_result"
    }
   ],
   "source": [
    "df.describe()"
   ]
  },
  {
   "cell_type": "markdown",
   "metadata": {},
   "source": [
    "<font color='Red'>\n",
    "    \n",
    "Even after removing Statiscal Outliers, we can see high level of outliers in Metric2, Metric3, Metric4 and Metric9. Also, 25,50,75 and 100% of these values are zeros. So these are not useful in the model building."
   ]
  },
  {
   "cell_type": "markdown",
   "metadata": {},
   "source": [
    "Note: Without Removing these metrics Model were built, but these models are proned to Overfitting depite of any Hyperparamters"
   ]
  },
  {
   "cell_type": "markdown",
   "metadata": {},
   "source": [
    "## Splitting the Data into Test & Train Split"
   ]
  },
  {
   "cell_type": "code",
   "execution_count": 24,
   "metadata": {},
   "outputs": [],
   "source": [
    "y= df['failure'] #class variable\n",
    "X = df.drop(labels =['date','device','failure'], axis=1)"
   ]
  },
  {
   "cell_type": "markdown",
   "metadata": {},
   "source": [
    "**As we noticed, dataset is highly imbalanced, so let’s use ‘Stratify’ options for target variable to make sure equal amount of classes distribution in Train and Test sets.**"
   ]
  },
  {
   "cell_type": "code",
   "execution_count": 25,
   "metadata": {},
   "outputs": [],
   "source": [
    "X_train, X_test, y_train, y_test = train_test_split(X,y,test_size=0.25,random_state=42,stratify=y)"
   ]
  },
  {
   "cell_type": "code",
   "execution_count": 26,
   "metadata": {
    "scrolled": true
   },
   "outputs": [
    {
     "name": "stdout",
     "output_type": "stream",
     "text": [
      "X_train Shape:  (79668, 9)\n",
      "X_test Shape:  (26557, 9)\n",
      "y_train Shape:  (79668,)\n",
      "y_test Shape:  (26557,)\n"
     ]
    }
   ],
   "source": [
    "print(\"X_train Shape: \",X_train.shape)\n",
    "print(\"X_test Shape: \",X_test.shape)\n",
    "print(\"y_train Shape: \",y_train.shape)\n",
    "print(\"y_test Shape: \",y_test.shape)"
   ]
  },
  {
   "cell_type": "markdown",
   "metadata": {},
   "source": [
    "## Apply Standard Scalling"
   ]
  },
  {
   "cell_type": "code",
   "execution_count": 27,
   "metadata": {},
   "outputs": [],
   "source": [
    "X_train = StdScaler.fit_transform(X_train)\n",
    "X_test=StdScaler.transform(X_test)"
   ]
  },
  {
   "cell_type": "markdown",
   "metadata": {},
   "source": [
    "## Treat Skewness of Variables"
   ]
  },
  {
   "cell_type": "code",
   "execution_count": 28,
   "metadata": {},
   "outputs": [],
   "source": [
    "#Apply Power transaformer to moderate the skewness of the all variables \n",
    "\n",
    "X_train_pt = pd.DataFrame(Pt.fit_transform(X_train))\n",
    "X_test_pt = pd.DataFrame(Pt.transform(X_test))"
   ]
  },
  {
   "cell_type": "code",
   "execution_count": 29,
   "metadata": {},
   "outputs": [],
   "source": [
    "#apply column names after power transformer\n",
    "\n",
    "X_train_pt.columns = df_metrics.columns\n",
    "X_test_pt.columns = df_metrics.columns"
   ]
  },
  {
   "cell_type": "code",
   "execution_count": 30,
   "metadata": {
    "scrolled": true
   },
   "outputs": [
    {
     "data": {
      "image/png": "[encoded data removed]",
      "text/plain": [
       "<Figure size 1080x360 with 1 Axes>"
      ]
     },
     "metadata": {
      "needs_background": "light"
     },
     "output_type": "display_data"
    }
   ],
   "source": [
    "plt.figure(figsize=(15,5))\n",
    "sns.barplot(y = X_train_pt.skew().values, x = X_train_pt.skew().index)\n",
    "plt.axhline(y=0.5, color='r',linestyle='--') # acceptable upper skew value\n",
    "plt.axhline(y=-0.5, color='r',linestyle='--') # acceptable lower skew value\n",
    "plt.show()"
   ]
  },
  {
   "cell_type": "code",
   "execution_count": 31,
   "metadata": {},
   "outputs": [
    {
     "data": {
      "image/png": "[encoded data removed]",
      "text/plain": [
       "<Figure size 1080x360 with 1 Axes>"
      ]
     },
     "metadata": {
      "needs_background": "light"
     },
     "output_type": "display_data"
    }
   ],
   "source": [
    "plt.figure(figsize=(15,5))\n",
    "sns.barplot(y = X_test_pt.skew().values, x = X_test_pt.skew().index)\n",
    "plt.axhline(y=0.5, color='r',linestyle='--') # acceptable upper skew value\n",
    "plt.axhline(y=-0.5, color='r',linestyle='--') # acceptable lower skew value\n",
    "plt.show()"
   ]
  },
  {
   "cell_type": "code",
   "execution_count": 32,
   "metadata": {},
   "outputs": [
    {
     "data": {
      "image/png": "[encoded data removed]",
      "text/plain": [
       "<Figure size 1800x864 with 9 Axes>"
      ]
     },
     "metadata": {
      "needs_background": "light"
     },
     "output_type": "display_data"
    }
   ],
   "source": [
    "df_plot_temp = X_train_pt.copy()\n",
    "df_plot_temp['failure'] = y_train.values\n",
    "\n",
    "fig,axes = plt.subplots(3,3,figsize=(25,12))\n",
    "count = 0\n",
    "for i in df_plot_temp.columns[:-1]:\n",
    "    df_1 = df_plot_temp.loc[df_plot_temp['failure']==1]\n",
    "    df_0 = df_plot_temp.loc[df_plot_temp['failure']==0]\n",
    "    ax = axes[count//3, count%3]\n",
    "    sns.distplot(df_0[i], ax=ax)\n",
    "    sns.distplot(df_1[i], ax=ax)\n",
    "    count+=1\n",
    "fig.suptitle('Bivariate Analysis with Distribution Plot', fontsize = 25,x =0.5, y=0.92)\n",
    "fig.subplots_adjust(wspace=0.5,hspace=0.5 ) \n",
    "plt.show()"
   ]
  },
  {
   "cell_type": "code",
   "execution_count": 33,
   "metadata": {},
   "outputs": [
    {
     "data": {
      "image/png": "[encoded data removed]",
      "text/plain": [
       "<Figure size 1800x864 with 9 Axes>"
      ]
     },
     "metadata": {
      "needs_background": "light"
     },
     "output_type": "display_data"
    }
   ],
   "source": [
    "df_plot_temp = X_train_pt.copy()\n",
    "df_plot_temp['failure'] = y_train.values\n",
    "\n",
    "fig,axes = plt.subplots(3,3,figsize=(25,12))\n",
    "count = 0\n",
    "for i in df_plot_temp.columns[:-1]:\n",
    "    df_1 = df_plot_temp.loc[df_plot_temp['failure']==1]\n",
    "    df_0 = df_plot_temp.loc[df_plot_temp['failure']==0]\n",
    "    ax = axes[count//3, count%3]\n",
    "    sns.boxenplot(y = i, data = df_plot_temp, ax=ax, x = 'failure')\n",
    "    count+=1\n",
    "fig.suptitle('Bivariate analysis with Boxen Plot', fontsize = 25,x =0.5, y=0.92)\n",
    "fig.subplots_adjust(wspace=0.5,hspace=0.5 ) \n",
    "plt.show()"
   ]
  },
  {
   "cell_type": "markdown",
   "metadata": {},
   "source": [
    "From the above Bivariate Analysis, it is clear that metrics 1, 5, 7, 8 are less significant. Also metric 7 and 8 are highly corrleated, we should keep only one variable to overcome Multicollinearity. As it is also evident that they are less significant from bivariate analysis, we can drop these variables."
   ]
  },
  {
   "cell_type": "code",
   "execution_count": 34,
   "metadata": {},
   "outputs": [],
   "source": [
    "#Droping the less significant features\n",
    "\n",
    "X_train_res = X_train_pt.drop(labels = ['metric2','metric3','metric4','metric7','metric8','metric9'],axis=1).copy()\n",
    "X_test_res = X_test_pt.drop(labels = ['metric2','metric3','metric4','metric7','metric8','metric9'],axis=1).copy()"
   ]
  },
  {
   "cell_type": "code",
   "execution_count": 35,
   "metadata": {},
   "outputs": [
    {
     "data": {
      "image/png": "[encoded data removed]",
      "text/plain": [
       "<Figure size 402.375x180 with 2 Axes>"
      ]
     },
     "metadata": {
      "needs_background": "light"
     },
     "output_type": "display_data"
    }
   ],
   "source": [
    "#Scatterplot of Metrics with respect to 'Failure'\n",
    "\n",
    "df_plot_final = X_train_res.copy()\n",
    "df_plot_final['failure'] = y_train.values\n",
    "\n",
    "pairplot_cols_lst = df_plot_final.columns[:-1].tolist()\n",
    "y_pair_col = pairplot_cols_lst.pop(0)\n",
    "range_lst = list(range(0,len(pairplot_cols_lst)+6,6));\n",
    "for i in range(1,len(range_lst)):\n",
    "    sns.pairplot(data=df_plot_final,x_vars=pairplot_cols_lst[range_lst[max(0,(i-1))]:range_lst[i]],y_vars=y_pair_col,\n",
    "                 hue='failure')"
   ]
  },
  {
   "cell_type": "markdown",
   "metadata": {},
   "source": [
    "#### It is clear that metric2, metric3, metric4 are Categorical Variables from the visualization."
   ]
  },
  {
   "cell_type": "code",
   "execution_count": 36,
   "metadata": {},
   "outputs": [
    {
     "data": {
      "text/plain": [
       "0    106199\n",
       "1        26\n",
       "Name: failure, dtype: int64"
      ]
     },
     "execution_count": 36,
     "metadata": {},
     "output_type": "execute_result"
    }
   ],
   "source": [
    "df['failure'].value_counts()"
   ]
  },
  {
   "cell_type": "markdown",
   "metadata": {},
   "source": [
    "## Summary from EDA"
   ]
  },
  {
   "cell_type": "markdown",
   "metadata": {},
   "source": [
    "* **High-class imbalance (Out of a total of 1,06,199 records, 26 were fraudulent)**\n",
    "    * ***99.97% is normal and 0.03% is failure.***\n",
    "    * ***Needed to use class imbalance techniques like Random oversampling, SMOTE and ADASYN.***\n",
    "    * ***The appropriate metric for the best model is ROC-AUC.***\n",
    "\n",
    "\n",
    "* **List of models can try to get the best model:**\n",
    "    * ***`Logistic regression`:Might not helpful since the data is not much linearly separable, but we can experiment to check the model results.***\n",
    "    * ***`K-Nearest Neighbor`:Need a lot of computation, not recommended for large datasets, but try once to see the performance.***\n",
    "    * ***`Support vector machine`:Need a lot of computation, not recommended for large datasets, but try once to see the performance.***\n",
    "    * ***`Decision tree`:chances are high to get overfit, but with proper tunings possibly can get good model and with ensemble of decision trees will give even better results.***\n",
    "    * ***`Random forest`:This is ensembles of decision trees with an iterative way of adding weak learners to form the final model, expecting best results from this classification model.***\n",
    "    * ***`XGBoost`:Fast in learning, because of parallel processing. This works on reducing loss function. And an extended version of gradient boosting. Expecting best results from this classification as well.***\n",
    "    \n",
    "    \n",
    "\n",
    "* **Hyperparameters tuning:**\n",
    "    * ***Use `GridSearchCV` or `RandomSearchCV` with StratifiedKFold, to find the best hyperparameters for the model.***\n",
    "        * ***`RandomSearchCV` is the best option when we have a large dataset, but not guaranteed the best results.***\n",
    "        * ***Prefer `StratifiedKFold` over `K-Fold`, especially in such a case of imbalanced data stratification ensures that each fold is representative of all the strata of the data.***"
   ]
  },
  {
   "cell_type": "markdown",
   "metadata": {},
   "source": [
    "##  Data Balancing"
   ]
  },
  {
   "cell_type": "markdown",
   "metadata": {},
   "source": [
    "**We can Perform data balancing with below techniques:**  \n",
    "- Random Oversampling\n",
    "- SMOTE\n",
    "- ADASYN"
   ]
  },
  {
   "cell_type": "markdown",
   "metadata": {},
   "source": [
    "### Random Oversampling"
   ]
  },
  {
   "cell_type": "code",
   "execution_count": 37,
   "metadata": {},
   "outputs": [],
   "source": [
    "ros = RandomOverSampler(random_state=42)\n",
    "X_train_ros, y_train_ros = ros.fit_resample(X_train_res, y_train)\n",
    "X_test_ros, y_test_ros = ros.fit_resample(X_test_res, y_test)"
   ]
  },
  {
   "cell_type": "code",
   "execution_count": 38,
   "metadata": {},
   "outputs": [
    {
     "name": "stdout",
     "output_type": "stream",
     "text": [
      "Ramdom oversampling X_train shape:\t (159298, 3)\n",
      "Ramdom oversampling y_train shape:\t (159298,)\n",
      "X_test shape:\t\t\t\t (53100, 3)\n",
      "y_test shape:\t\t\t\t (53100,)\n"
     ]
    }
   ],
   "source": [
    "print('Ramdom oversampling X_train shape:\\t', X_train_ros.shape)\n",
    "print('Ramdom oversampling y_train shape:\\t', y_train_ros.shape)\n",
    "print('X_test shape:\\t\\t\\t\\t', X_test_ros.shape)\n",
    "print('y_test shape:\\t\\t\\t\\t', y_test_ros.shape)"
   ]
  },
  {
   "cell_type": "code",
   "execution_count": 39,
   "metadata": {
    "scrolled": true
   },
   "outputs": [
    {
     "data": {
      "text/plain": [
       "1    79649\n",
       "0    79649\n",
       "Name: failure, dtype: int64"
      ]
     },
     "execution_count": 39,
     "metadata": {},
     "output_type": "execute_result"
    }
   ],
   "source": [
    "y_train_ros.value_counts()"
   ]
  },
  {
   "cell_type": "markdown",
   "metadata": {},
   "source": [
    "#### Final Data Frames for Model Building after scaling, removal of Skewness and balancing the data"
   ]
  },
  {
   "cell_type": "code",
   "execution_count": 40,
   "metadata": {},
   "outputs": [
    {
     "data": {
      "text/html": [
       "<div>\n",
       "<style scoped>\n",
       "    .dataframe tbody tr th:only-of-type {\n",
       "        vertical-align: middle;\n",
       "    }\n",
       "\n",
       "    .dataframe tbody tr th {\n",
       "        vertical-align: top;\n",
       "    }\n",
       "\n",
       "    .dataframe thead th {\n",
       "        text-align: right;\n",
       "    }\n",
       "</style>\n",
       "<table border=\"1\" class=\"dataframe\">\n",
       "  <thead>\n",
       "    <tr style=\"text-align: right;\">\n",
       "      <th></th>\n",
       "      <th>metric1</th>\n",
       "      <th>metric5</th>\n",
       "      <th>metric6</th>\n",
       "    </tr>\n",
       "  </thead>\n",
       "  <tbody>\n",
       "    <tr>\n",
       "      <td>0</td>\n",
       "      <td>-0.265520</td>\n",
       "      <td>0.326886</td>\n",
       "      <td>-0.427819</td>\n",
       "    </tr>\n",
       "    <tr>\n",
       "      <td>1</td>\n",
       "      <td>-1.513400</td>\n",
       "      <td>-0.538632</td>\n",
       "      <td>-0.021123</td>\n",
       "    </tr>\n",
       "    <tr>\n",
       "      <td>2</td>\n",
       "      <td>0.223040</td>\n",
       "      <td>-0.210907</td>\n",
       "      <td>-0.143917</td>\n",
       "    </tr>\n",
       "    <tr>\n",
       "      <td>3</td>\n",
       "      <td>-0.247534</td>\n",
       "      <td>-0.909810</td>\n",
       "      <td>0.181630</td>\n",
       "    </tr>\n",
       "    <tr>\n",
       "      <td>4</td>\n",
       "      <td>0.660596</td>\n",
       "      <td>2.237252</td>\n",
       "      <td>-0.232186</td>\n",
       "    </tr>\n",
       "  </tbody>\n",
       "</table>\n",
       "</div>"
      ],
      "text/plain": [
       "    metric1   metric5   metric6\n",
       "0 -0.265520  0.326886 -0.427819\n",
       "1 -1.513400 -0.538632 -0.021123\n",
       "2  0.223040 -0.210907 -0.143917\n",
       "3 -0.247534 -0.909810  0.181630\n",
       "4  0.660596  2.237252 -0.232186"
      ]
     },
     "execution_count": 40,
     "metadata": {},
     "output_type": "execute_result"
    }
   ],
   "source": [
    "X_train_ros.head(5)"
   ]
  },
  {
   "cell_type": "code",
   "execution_count": 41,
   "metadata": {},
   "outputs": [
    {
     "data": {
      "text/plain": [
       "1    79649\n",
       "0    79649\n",
       "Name: failure, dtype: int64"
      ]
     },
     "execution_count": 41,
     "metadata": {},
     "output_type": "execute_result"
    }
   ],
   "source": [
    "y_train_ros.value_counts()"
   ]
  },
  {
   "cell_type": "code",
   "execution_count": 42,
   "metadata": {},
   "outputs": [
    {
     "data": {
      "text/html": [
       "<div>\n",
       "<style scoped>\n",
       "    .dataframe tbody tr th:only-of-type {\n",
       "        vertical-align: middle;\n",
       "    }\n",
       "\n",
       "    .dataframe tbody tr th {\n",
       "        vertical-align: top;\n",
       "    }\n",
       "\n",
       "    .dataframe thead th {\n",
       "        text-align: right;\n",
       "    }\n",
       "</style>\n",
       "<table border=\"1\" class=\"dataframe\">\n",
       "  <thead>\n",
       "    <tr style=\"text-align: right;\">\n",
       "      <th></th>\n",
       "      <th>metric1</th>\n",
       "      <th>metric5</th>\n",
       "      <th>metric6</th>\n",
       "    </tr>\n",
       "  </thead>\n",
       "  <tbody>\n",
       "    <tr>\n",
       "      <td>0</td>\n",
       "      <td>-1.382285</td>\n",
       "      <td>-0.538632</td>\n",
       "      <td>-0.429008</td>\n",
       "    </tr>\n",
       "    <tr>\n",
       "      <td>1</td>\n",
       "      <td>-1.529631</td>\n",
       "      <td>1.131386</td>\n",
       "      <td>0.740604</td>\n",
       "    </tr>\n",
       "    <tr>\n",
       "      <td>2</td>\n",
       "      <td>-0.601752</td>\n",
       "      <td>0.076561</td>\n",
       "      <td>1.542630</td>\n",
       "    </tr>\n",
       "    <tr>\n",
       "      <td>3</td>\n",
       "      <td>1.116438</td>\n",
       "      <td>-0.909810</td>\n",
       "      <td>-0.057901</td>\n",
       "    </tr>\n",
       "    <tr>\n",
       "      <td>4</td>\n",
       "      <td>0.088783</td>\n",
       "      <td>-0.538632</td>\n",
       "      <td>-0.497594</td>\n",
       "    </tr>\n",
       "  </tbody>\n",
       "</table>\n",
       "</div>"
      ],
      "text/plain": [
       "    metric1   metric5   metric6\n",
       "0 -1.382285 -0.538632 -0.429008\n",
       "1 -1.529631  1.131386  0.740604\n",
       "2 -0.601752  0.076561  1.542630\n",
       "3  1.116438 -0.909810 -0.057901\n",
       "4  0.088783 -0.538632 -0.497594"
      ]
     },
     "execution_count": 42,
     "metadata": {},
     "output_type": "execute_result"
    }
   ],
   "source": [
    "X_test_ros.head(5)"
   ]
  },
  {
   "cell_type": "code",
   "execution_count": 43,
   "metadata": {
    "scrolled": false
   },
   "outputs": [
    {
     "data": {
      "text/plain": [
       "1    26550\n",
       "0    26550\n",
       "Name: failure, dtype: int64"
      ]
     },
     "execution_count": 43,
     "metadata": {},
     "output_type": "execute_result"
    }
   ],
   "source": [
    "y_test_ros.value_counts()"
   ]
  },
  {
   "cell_type": "markdown",
   "metadata": {},
   "source": [
    "\n",
    "\n",
    "## Model Building"
   ]
  },
  {
   "cell_type": "markdown",
   "metadata": {},
   "source": [
    "### 1. Logistic Regression"
   ]
  },
  {
   "cell_type": "code",
   "execution_count": 44,
   "metadata": {},
   "outputs": [
    {
     "name": "stdout",
     "output_type": "stream",
     "text": [
      "Fitting 5 folds for each of 5 candidates, totalling 25 fits\n"
     ]
    },
    {
     "name": "stderr",
     "output_type": "stream",
     "text": [
      "[Parallel(n_jobs=-1)]: Using backend LokyBackend with 8 concurrent workers.\n",
      "[Parallel(n_jobs=-1)]: Done  19 out of  25 | elapsed:    7.7s remaining:    2.4s\n",
      "[Parallel(n_jobs=-1)]: Done  25 out of  25 | elapsed:    7.9s finished\n"
     ]
    }
   ],
   "source": [
    "lg_params = {'C':np.arange(0.0001, 1, 0.02),'max_iter':range(50,300,50)}\n",
    "\n",
    "lg = LogisticRegression(random_state=42, n_jobs=-1)\n",
    "\n",
    "# Cross validation\n",
    "\n",
    "lg_model_cv = RandomizedSearchCV(lg,param_distributions=lg_params,n_iter=5,scoring='roc_auc',n_jobs=-1,cv=5,verbose=3)\n",
    "\n",
    "lg_model_cv.fit(X_train_ros,y_train_ros)\n",
    "\n",
    "lg_cv_results = pd.DataFrame(lg_model_cv.cv_results_)"
   ]
  },
  {
   "cell_type": "code",
   "execution_count": 45,
   "metadata": {},
   "outputs": [
    {
     "data": {
      "text/html": [
       "<div>\n",
       "<style scoped>\n",
       "    .dataframe tbody tr th:only-of-type {\n",
       "        vertical-align: middle;\n",
       "    }\n",
       "\n",
       "    .dataframe tbody tr th {\n",
       "        vertical-align: top;\n",
       "    }\n",
       "\n",
       "    .dataframe thead th {\n",
       "        text-align: right;\n",
       "    }\n",
       "</style>\n",
       "<table border=\"1\" class=\"dataframe\">\n",
       "  <thead>\n",
       "    <tr style=\"text-align: right;\">\n",
       "      <th></th>\n",
       "      <th>mean_fit_time</th>\n",
       "      <th>std_fit_time</th>\n",
       "      <th>mean_score_time</th>\n",
       "      <th>std_score_time</th>\n",
       "      <th>param_max_iter</th>\n",
       "      <th>param_C</th>\n",
       "      <th>params</th>\n",
       "      <th>split0_test_score</th>\n",
       "      <th>split1_test_score</th>\n",
       "      <th>split2_test_score</th>\n",
       "      <th>split3_test_score</th>\n",
       "      <th>split4_test_score</th>\n",
       "      <th>mean_test_score</th>\n",
       "      <th>std_test_score</th>\n",
       "      <th>rank_test_score</th>\n",
       "    </tr>\n",
       "  </thead>\n",
       "  <tbody>\n",
       "    <tr>\n",
       "      <td>0</td>\n",
       "      <td>0.269345</td>\n",
       "      <td>0.005243</td>\n",
       "      <td>0.016345</td>\n",
       "      <td>0.002386</td>\n",
       "      <td>50</td>\n",
       "      <td>0.4001</td>\n",
       "      <td>{'max_iter': 50, 'C': 0.4001}</td>\n",
       "      <td>0.641109</td>\n",
       "      <td>0.639503</td>\n",
       "      <td>0.637931</td>\n",
       "      <td>0.636824</td>\n",
       "      <td>0.640493</td>\n",
       "      <td>0.639172</td>\n",
       "      <td>0.001591</td>\n",
       "      <td>2</td>\n",
       "    </tr>\n",
       "    <tr>\n",
       "      <td>1</td>\n",
       "      <td>0.278670</td>\n",
       "      <td>0.022219</td>\n",
       "      <td>0.018250</td>\n",
       "      <td>0.001126</td>\n",
       "      <td>200</td>\n",
       "      <td>0.0201</td>\n",
       "      <td>{'max_iter': 200, 'C': 0.0201}</td>\n",
       "      <td>0.641116</td>\n",
       "      <td>0.639493</td>\n",
       "      <td>0.637932</td>\n",
       "      <td>0.636834</td>\n",
       "      <td>0.640486</td>\n",
       "      <td>0.639172</td>\n",
       "      <td>0.001588</td>\n",
       "      <td>1</td>\n",
       "    </tr>\n",
       "    <tr>\n",
       "      <td>2</td>\n",
       "      <td>0.286391</td>\n",
       "      <td>0.035208</td>\n",
       "      <td>0.018050</td>\n",
       "      <td>0.001187</td>\n",
       "      <td>200</td>\n",
       "      <td>0.7201</td>\n",
       "      <td>{'max_iter': 200, 'C': 0.7201}</td>\n",
       "      <td>0.641106</td>\n",
       "      <td>0.639503</td>\n",
       "      <td>0.637931</td>\n",
       "      <td>0.636827</td>\n",
       "      <td>0.640493</td>\n",
       "      <td>0.639172</td>\n",
       "      <td>0.001590</td>\n",
       "      <td>3</td>\n",
       "    </tr>\n",
       "    <tr>\n",
       "      <td>3</td>\n",
       "      <td>0.270245</td>\n",
       "      <td>0.020632</td>\n",
       "      <td>0.016543</td>\n",
       "      <td>0.002818</td>\n",
       "      <td>250</td>\n",
       "      <td>0.0401</td>\n",
       "      <td>{'max_iter': 250, 'C': 0.040100000000000004}</td>\n",
       "      <td>0.641109</td>\n",
       "      <td>0.639493</td>\n",
       "      <td>0.637925</td>\n",
       "      <td>0.636824</td>\n",
       "      <td>0.640490</td>\n",
       "      <td>0.639168</td>\n",
       "      <td>0.001591</td>\n",
       "      <td>5</td>\n",
       "    </tr>\n",
       "    <tr>\n",
       "      <td>4</td>\n",
       "      <td>0.230307</td>\n",
       "      <td>0.048937</td>\n",
       "      <td>0.022057</td>\n",
       "      <td>0.007311</td>\n",
       "      <td>100</td>\n",
       "      <td>0.1401</td>\n",
       "      <td>{'max_iter': 100, 'C': 0.1401}</td>\n",
       "      <td>0.641109</td>\n",
       "      <td>0.639506</td>\n",
       "      <td>0.637925</td>\n",
       "      <td>0.636824</td>\n",
       "      <td>0.640490</td>\n",
       "      <td>0.639171</td>\n",
       "      <td>0.001592</td>\n",
       "      <td>4</td>\n",
       "    </tr>\n",
       "  </tbody>\n",
       "</table>\n",
       "</div>"
      ],
      "text/plain": [
       "   mean_fit_time  std_fit_time  mean_score_time  std_score_time  \\\n",
       "0       0.269345      0.005243         0.016345        0.002386   \n",
       "1       0.278670      0.022219         0.018250        0.001126   \n",
       "2       0.286391      0.035208         0.018050        0.001187   \n",
       "3       0.270245      0.020632         0.016543        0.002818   \n",
       "4       0.230307      0.048937         0.022057        0.007311   \n",
       "\n",
       "  param_max_iter param_C                                        params  \\\n",
       "0             50  0.4001                 {'max_iter': 50, 'C': 0.4001}   \n",
       "1            200  0.0201                {'max_iter': 200, 'C': 0.0201}   \n",
       "2            200  0.7201                {'max_iter': 200, 'C': 0.7201}   \n",
       "3            250  0.0401  {'max_iter': 250, 'C': 0.040100000000000004}   \n",
       "4            100  0.1401                {'max_iter': 100, 'C': 0.1401}   \n",
       "\n",
       "   split0_test_score  split1_test_score  split2_test_score  split3_test_score  \\\n",
       "0           0.641109           0.639503           0.637931           0.636824   \n",
       "1           0.641116           0.639493           0.637932           0.636834   \n",
       "2           0.641106           0.639503           0.637931           0.636827   \n",
       "3           0.641109           0.639493           0.637925           0.636824   \n",
       "4           0.641109           0.639506           0.637925           0.636824   \n",
       "\n",
       "   split4_test_score  mean_test_score  std_test_score  rank_test_score  \n",
       "0           0.640493         0.639172        0.001591                2  \n",
       "1           0.640486         0.639172        0.001588                1  \n",
       "2           0.640493         0.639172        0.001590                3  \n",
       "3           0.640490         0.639168        0.001591                5  \n",
       "4           0.640490         0.639171        0.001592                4  "
      ]
     },
     "execution_count": 45,
     "metadata": {},
     "output_type": "execute_result"
    }
   ],
   "source": [
    "lg_cv_results"
   ]
  },
  {
   "cell_type": "code",
   "execution_count": 46,
   "metadata": {},
   "outputs": [
    {
     "data": {
      "text/plain": [
       "LogisticRegression(C=0.0201, class_weight=None, dual=False, fit_intercept=True,\n",
       "                   intercept_scaling=1, l1_ratio=None, max_iter=200,\n",
       "                   multi_class='auto', n_jobs=-1, penalty='l2', random_state=42,\n",
       "                   solver='lbfgs', tol=0.0001, verbose=0, warm_start=False)"
      ]
     },
     "execution_count": 46,
     "metadata": {},
     "output_type": "execute_result"
    }
   ],
   "source": [
    "# check for the best estimator\n",
    "\n",
    "lg_model_cv.best_estimator_"
   ]
  },
  {
   "cell_type": "code",
   "execution_count": 47,
   "metadata": {},
   "outputs": [
    {
     "data": {
      "text/plain": [
       "array([[0.25837966, 0.37277338, 0.1701662 ]])"
      ]
     },
     "execution_count": 47,
     "metadata": {},
     "output_type": "execute_result"
    }
   ],
   "source": [
    "# fit the model using best estimator \n",
    "\n",
    "C = lg_model_cv.best_estimator_.C\n",
    "logit = LogisticRegression(C=C)\n",
    "\n",
    "logit.fit(X_train_ros, y_train_ros)\n",
    "logit.coef_"
   ]
  },
  {
   "cell_type": "code",
   "execution_count": 48,
   "metadata": {},
   "outputs": [
    {
     "data": {
      "text/plain": [
       "array([0.46703335, 0.33005828, 0.46058482, ..., 0.58960795, 0.58365009,\n",
       "       0.58365009])"
      ]
     },
     "execution_count": 48,
     "metadata": {},
     "output_type": "execute_result"
    }
   ],
   "source": [
    "# check the prediction with train set\n",
    "y_train_pred = logit.predict_proba(X_train_ros)[:,1]\n",
    "y_train_pred"
   ]
  },
  {
   "cell_type": "code",
   "execution_count": 49,
   "metadata": {},
   "outputs": [
    {
     "data": {
      "text/html": [
       "<div>\n",
       "<style scoped>\n",
       "    .dataframe tbody tr th:only-of-type {\n",
       "        vertical-align: middle;\n",
       "    }\n",
       "\n",
       "    .dataframe tbody tr th {\n",
       "        vertical-align: top;\n",
       "    }\n",
       "\n",
       "    .dataframe thead th {\n",
       "        text-align: right;\n",
       "    }\n",
       "</style>\n",
       "<table border=\"1\" class=\"dataframe\">\n",
       "  <thead>\n",
       "    <tr style=\"text-align: right;\">\n",
       "      <th></th>\n",
       "      <th>Failure</th>\n",
       "      <th>Failure_Prob</th>\n",
       "    </tr>\n",
       "  </thead>\n",
       "  <tbody>\n",
       "    <tr>\n",
       "      <td>0</td>\n",
       "      <td>0</td>\n",
       "      <td>0.467033</td>\n",
       "    </tr>\n",
       "    <tr>\n",
       "      <td>1</td>\n",
       "      <td>0</td>\n",
       "      <td>0.330058</td>\n",
       "    </tr>\n",
       "    <tr>\n",
       "      <td>2</td>\n",
       "      <td>0</td>\n",
       "      <td>0.460585</td>\n",
       "    </tr>\n",
       "    <tr>\n",
       "      <td>3</td>\n",
       "      <td>0</td>\n",
       "      <td>0.381140</td>\n",
       "    </tr>\n",
       "    <tr>\n",
       "      <td>4</td>\n",
       "      <td>0</td>\n",
       "      <td>0.701124</td>\n",
       "    </tr>\n",
       "  </tbody>\n",
       "</table>\n",
       "</div>"
      ],
      "text/plain": [
       "   Failure  Failure_Prob\n",
       "0        0      0.467033\n",
       "1        0      0.330058\n",
       "2        0      0.460585\n",
       "3        0      0.381140\n",
       "4        0      0.701124"
      ]
     },
     "execution_count": 49,
     "metadata": {},
     "output_type": "execute_result"
    }
   ],
   "source": [
    "# create a data frame with target variable and probabilities\n",
    "y_train_pred_prob = pd.DataFrame({'Failure':y_train_ros.values, 'Failure_Prob':y_train_pred})\n",
    "y_train_pred_prob.head()"
   ]
  },
  {
   "cell_type": "code",
   "execution_count": 50,
   "metadata": {
    "scrolled": false
   },
   "outputs": [
    {
     "data": {
      "text/html": [
       "<div>\n",
       "<style scoped>\n",
       "    .dataframe tbody tr th:only-of-type {\n",
       "        vertical-align: middle;\n",
       "    }\n",
       "\n",
       "    .dataframe tbody tr th {\n",
       "        vertical-align: top;\n",
       "    }\n",
       "\n",
       "    .dataframe thead th {\n",
       "        text-align: right;\n",
       "    }\n",
       "</style>\n",
       "<table border=\"1\" class=\"dataframe\">\n",
       "  <thead>\n",
       "    <tr style=\"text-align: right;\">\n",
       "      <th></th>\n",
       "      <th>Failure</th>\n",
       "      <th>Failure_Prob</th>\n",
       "      <th>Failure_Pred</th>\n",
       "    </tr>\n",
       "  </thead>\n",
       "  <tbody>\n",
       "    <tr>\n",
       "      <td>0</td>\n",
       "      <td>0</td>\n",
       "      <td>0.467033</td>\n",
       "      <td>0</td>\n",
       "    </tr>\n",
       "    <tr>\n",
       "      <td>1</td>\n",
       "      <td>0</td>\n",
       "      <td>0.330058</td>\n",
       "      <td>0</td>\n",
       "    </tr>\n",
       "    <tr>\n",
       "      <td>2</td>\n",
       "      <td>0</td>\n",
       "      <td>0.460585</td>\n",
       "      <td>0</td>\n",
       "    </tr>\n",
       "    <tr>\n",
       "      <td>3</td>\n",
       "      <td>0</td>\n",
       "      <td>0.381140</td>\n",
       "      <td>0</td>\n",
       "    </tr>\n",
       "    <tr>\n",
       "      <td>4</td>\n",
       "      <td>0</td>\n",
       "      <td>0.701124</td>\n",
       "      <td>1</td>\n",
       "    </tr>\n",
       "  </tbody>\n",
       "</table>\n",
       "</div>"
      ],
      "text/plain": [
       "   Failure  Failure_Prob  Failure_Pred\n",
       "0        0      0.467033             0\n",
       "1        0      0.330058             0\n",
       "2        0      0.460585             0\n",
       "3        0      0.381140             0\n",
       "4        0      0.701124             1"
      ]
     },
     "execution_count": 50,
     "metadata": {},
     "output_type": "execute_result"
    }
   ],
   "source": [
    "# Creating new columns 'Failure_Pred' by using 'Failure_Prob' values. 1 if churn_user_Prob > 0.5 else 0\n",
    "\n",
    "y_train_pred_prob['Failure_Pred'] = y_train_pred_prob.Failure_Prob.map(lambda x: 1 if x > 0.5 else 0)\n",
    "\n",
    "y_train_pred_prob.head()"
   ]
  },
  {
   "cell_type": "code",
   "execution_count": 51,
   "metadata": {},
   "outputs": [
    {
     "data": {
      "text/plain": [
       "count    159298.000000\n",
       "mean          0.500000\n",
       "std           0.114837\n",
       "min           0.094772\n",
       "25%           0.415661\n",
       "50%           0.493619\n",
       "75%           0.585824\n",
       "max           0.840794\n",
       "Name: Failure_Prob, dtype: float64"
      ]
     },
     "execution_count": 51,
     "metadata": {},
     "output_type": "execute_result"
    }
   ],
   "source": [
    "# Check the distribution of probability, should be with in 0-1\n",
    "\n",
    "y_train_pred_prob['Failure_Prob'].describe()"
   ]
  },
  {
   "cell_type": "code",
   "execution_count": 52,
   "metadata": {},
   "outputs": [],
   "source": [
    "from sklearn import metrics\n",
    "from sklearn.metrics import confusion_matrix, classification_report, accuracy_score\n",
    "from sklearn.metrics import precision_score, recall_score, roc_auc_score"
   ]
  },
  {
   "cell_type": "code",
   "execution_count": 53,
   "metadata": {},
   "outputs": [
    {
     "name": "stdout",
     "output_type": "stream",
     "text": [
      "              precision    recall  f1-score   support\n",
      "\n",
      "           0       0.59      0.60      0.59     79649\n",
      "           1       0.59      0.58      0.59     79649\n",
      "\n",
      "    accuracy                           0.59    159298\n",
      "   macro avg       0.59      0.59      0.59    159298\n",
      "weighted avg       0.59      0.59      0.59    159298\n",
      "\n"
     ]
    }
   ],
   "source": [
    "# Classification report\n",
    "\n",
    "print(classification_report(y_train_pred_prob.Failure,y_train_pred_prob.Failure_Pred)) "
   ]
  },
  {
   "cell_type": "code",
   "execution_count": 54,
   "metadata": {},
   "outputs": [],
   "source": [
    "# Function to plot the confusion matrix\n",
    "\n",
    "def plot_confusion_matrix(cm, classes,normalize=False,title='Confusion matrix',cmap=plt.cm.Blues):\n",
    "\n",
    "    plt.imshow(cm, interpolation='nearest', cmap=cmap)\n",
    "    plt.title(title)\n",
    "    plt.colorbar()\n",
    "    tick_marks = np.arange(len(classes))\n",
    "    plt.xticks(tick_marks, classes, rotation=45)\n",
    "    plt.yticks(tick_marks, classes)\n",
    "\n",
    "    thresh = cm.max() / 2.\n",
    "    for i, j in itertools.product(range(cm.shape[0]), range(cm.shape[1])):\n",
    "        plt.text(j, i, format(cm[i, j], 'd'),\n",
    "                 horizontalalignment=\"center\",\n",
    "                 color=\"white\" if cm[i, j] > thresh else \"black\")\n",
    "\n",
    "    plt.tight_layout()\n",
    "    plt.ylabel('True label')\n",
    "    plt.xlabel('Predicted label')"
   ]
  },
  {
   "cell_type": "code",
   "execution_count": 55,
   "metadata": {},
   "outputs": [
    {
     "name": "stdout",
     "output_type": "stream",
     "text": [
      "[[47851 31798]\n",
      " [33381 46268]]\n"
     ]
    }
   ],
   "source": [
    "# Confusion matrix \n",
    "confusion = metrics.confusion_matrix(y_train_pred_prob.Failure, y_train_pred_prob.Failure_Pred )\n",
    "print(confusion)"
   ]
  },
  {
   "cell_type": "code",
   "execution_count": 56,
   "metadata": {},
   "outputs": [
    {
     "data": {
      "image/png": "[encoded data removed]",
      "text/plain": [
       "<Figure size 432x288 with 2 Axes>"
      ]
     },
     "metadata": {
      "needs_background": "light"
     },
     "output_type": "display_data"
    }
   ],
   "source": [
    "# Plot confusion matrix\n",
    "\n",
    "fig = figsize=(20,8)\n",
    "plt.figure()\n",
    "plot_confusion_matrix(confusion, classes=['Normal = 0','Failure = 1'],normalize= False,  title='Confusion matrix')"
   ]
  },
  {
   "cell_type": "code",
   "execution_count": 57,
   "metadata": {},
   "outputs": [],
   "source": [
    "def confusion_matrix(confusion, actual_target, predicted_target):\n",
    "    \n",
    "    print(confusion,'\\n')\n",
    " \n",
    "    TP = confusion[1,1] # true positive \n",
    "    TN = confusion[0,0] # true negatives\n",
    "    FP = confusion[0,1] # false positives\n",
    "    FN = confusion[1,0] # false negatives\n",
    "    \n",
    "    print('Sensitivity (or) Recall score :', (TP / float(TP+FN)).round(2))\n",
    "    print('Specificity:', (TN / float(TN+FP)).round(2))\n",
    "    print('roc_auc_score:',roc_auc_score(actual_target, predicted_target).round(2))\n",
    "    print('accuracy_score:',accuracy_score(actual_target, predicted_target).round(2))"
   ]
  },
  {
   "cell_type": "code",
   "execution_count": 58,
   "metadata": {},
   "outputs": [
    {
     "name": "stdout",
     "output_type": "stream",
     "text": [
      "[[47851 31798]\n",
      " [33381 46268]] \n",
      "\n",
      "Sensitivity (or) Recall score : 0.58\n",
      "Specificity: 0.6\n",
      "roc_auc_score: 0.59\n",
      "accuracy_score: 0.59\n"
     ]
    }
   ],
   "source": [
    "# Confusion matrix \n",
    "confusion = metrics.confusion_matrix(y_train_pred_prob.Failure, y_train_pred_prob.Failure_Pred )\n",
    "\n",
    "#confusion_matrix(confusion, actual_target, predicted_target):\n",
    "confusion_matrix(confusion,y_train_pred_prob.Failure,y_train_pred_prob.Failure_Pred)"
   ]
  },
  {
   "cell_type": "markdown",
   "metadata": {},
   "source": [
    "### Try to find Optimal probabaility Cutoff"
   ]
  },
  {
   "cell_type": "code",
   "execution_count": 59,
   "metadata": {},
   "outputs": [
    {
     "data": {
      "text/html": [
       "<div>\n",
       "<style scoped>\n",
       "    .dataframe tbody tr th:only-of-type {\n",
       "        vertical-align: middle;\n",
       "    }\n",
       "\n",
       "    .dataframe tbody tr th {\n",
       "        vertical-align: top;\n",
       "    }\n",
       "\n",
       "    .dataframe thead th {\n",
       "        text-align: right;\n",
       "    }\n",
       "</style>\n",
       "<table border=\"1\" class=\"dataframe\">\n",
       "  <thead>\n",
       "    <tr style=\"text-align: right;\">\n",
       "      <th></th>\n",
       "      <th>Failure</th>\n",
       "      <th>Failure_Prob</th>\n",
       "      <th>Failure_Pred</th>\n",
       "      <th>0.0</th>\n",
       "      <th>0.1</th>\n",
       "      <th>0.2</th>\n",
       "      <th>0.3</th>\n",
       "      <th>0.4</th>\n",
       "      <th>0.5</th>\n",
       "      <th>0.6</th>\n",
       "      <th>0.7</th>\n",
       "      <th>0.8</th>\n",
       "      <th>0.9</th>\n",
       "    </tr>\n",
       "  </thead>\n",
       "  <tbody>\n",
       "    <tr>\n",
       "      <td>0</td>\n",
       "      <td>0</td>\n",
       "      <td>0.467033</td>\n",
       "      <td>0</td>\n",
       "      <td>1</td>\n",
       "      <td>1</td>\n",
       "      <td>1</td>\n",
       "      <td>1</td>\n",
       "      <td>1</td>\n",
       "      <td>0</td>\n",
       "      <td>0</td>\n",
       "      <td>0</td>\n",
       "      <td>0</td>\n",
       "      <td>0</td>\n",
       "    </tr>\n",
       "    <tr>\n",
       "      <td>1</td>\n",
       "      <td>0</td>\n",
       "      <td>0.330058</td>\n",
       "      <td>0</td>\n",
       "      <td>1</td>\n",
       "      <td>1</td>\n",
       "      <td>1</td>\n",
       "      <td>1</td>\n",
       "      <td>0</td>\n",
       "      <td>0</td>\n",
       "      <td>0</td>\n",
       "      <td>0</td>\n",
       "      <td>0</td>\n",
       "      <td>0</td>\n",
       "    </tr>\n",
       "    <tr>\n",
       "      <td>2</td>\n",
       "      <td>0</td>\n",
       "      <td>0.460585</td>\n",
       "      <td>0</td>\n",
       "      <td>1</td>\n",
       "      <td>1</td>\n",
       "      <td>1</td>\n",
       "      <td>1</td>\n",
       "      <td>1</td>\n",
       "      <td>0</td>\n",
       "      <td>0</td>\n",
       "      <td>0</td>\n",
       "      <td>0</td>\n",
       "      <td>0</td>\n",
       "    </tr>\n",
       "    <tr>\n",
       "      <td>3</td>\n",
       "      <td>0</td>\n",
       "      <td>0.381140</td>\n",
       "      <td>0</td>\n",
       "      <td>1</td>\n",
       "      <td>1</td>\n",
       "      <td>1</td>\n",
       "      <td>1</td>\n",
       "      <td>0</td>\n",
       "      <td>0</td>\n",
       "      <td>0</td>\n",
       "      <td>0</td>\n",
       "      <td>0</td>\n",
       "      <td>0</td>\n",
       "    </tr>\n",
       "    <tr>\n",
       "      <td>4</td>\n",
       "      <td>0</td>\n",
       "      <td>0.701124</td>\n",
       "      <td>1</td>\n",
       "      <td>1</td>\n",
       "      <td>1</td>\n",
       "      <td>1</td>\n",
       "      <td>1</td>\n",
       "      <td>1</td>\n",
       "      <td>1</td>\n",
       "      <td>1</td>\n",
       "      <td>1</td>\n",
       "      <td>0</td>\n",
       "      <td>0</td>\n",
       "    </tr>\n",
       "  </tbody>\n",
       "</table>\n",
       "</div>"
      ],
      "text/plain": [
       "   Failure  Failure_Prob  Failure_Pred  0.0  0.1  0.2  0.3  0.4  0.5  0.6  \\\n",
       "0        0      0.467033             0    1    1    1    1    1    0    0   \n",
       "1        0      0.330058             0    1    1    1    1    0    0    0   \n",
       "2        0      0.460585             0    1    1    1    1    1    0    0   \n",
       "3        0      0.381140             0    1    1    1    1    0    0    0   \n",
       "4        0      0.701124             1    1    1    1    1    1    1    1   \n",
       "\n",
       "   0.7  0.8  0.9  \n",
       "0    0    0    0  \n",
       "1    0    0    0  \n",
       "2    0    0    0  \n",
       "3    0    0    0  \n",
       "4    1    0    0  "
      ]
     },
     "execution_count": 59,
     "metadata": {},
     "output_type": "execute_result"
    }
   ],
   "source": [
    "# Let's create columns with different probability cutoffs \n",
    "numbers = [float(x)/10 for x in range(10)]\n",
    "for i in numbers:\n",
    "    y_train_pred_prob[i]= y_train_pred_prob.Failure_Prob.map(lambda x: 1 if x > i else 0)\n",
    "y_train_pred_prob.head()"
   ]
  },
  {
   "cell_type": "code",
   "execution_count": 60,
   "metadata": {},
   "outputs": [
    {
     "name": "stdout",
     "output_type": "stream",
     "text": [
      "     prob  accuracy     sensi     speci\n",
      "0.0   0.0  0.500000  1.000000  0.000000\n",
      "0.1   0.1  0.500050  1.000000  0.000100\n",
      "0.2   0.2  0.502367  1.000000  0.004733\n",
      "0.3   0.3  0.529103  1.000000  0.058205\n",
      "0.4   0.4  0.588790  0.894788  0.282791\n",
      "0.5   0.5  0.590836  0.580899  0.600773\n",
      "0.6   0.6  0.556680  0.265565  0.847795\n",
      "0.7   0.7  0.485631  0.000000  0.971261\n",
      "0.8   0.8  0.499944  0.000000  0.999887\n",
      "0.9   0.9  0.500000  0.000000  1.000000\n"
     ]
    }
   ],
   "source": [
    "# Now let's calculate accuracy sensitivity and specificity for various probability cutoffs.\n",
    "cutoff_df = pd.DataFrame( columns = ['prob','accuracy','sensi','speci'])\n",
    "\n",
    "num = [0.0,0.1,0.2,0.3,0.4,0.5,0.6,0.7,0.8,0.9]\n",
    "for i in num:\n",
    "    cm1 = metrics.confusion_matrix(y_train_pred_prob.Failure, y_train_pred_prob[i] )\n",
    "    total1=sum(sum(cm1))\n",
    "    accuracy = (cm1[0,0]+cm1[1,1])/total1\n",
    "    \n",
    "    speci = cm1[0,0]/(cm1[0,0]+cm1[0,1])\n",
    "    sensi = cm1[1,1]/(cm1[1,0]+cm1[1,1])\n",
    "    cutoff_df.loc[i] =[ i ,accuracy,sensi,speci]\n",
    "print(cutoff_df)"
   ]
  },
  {
   "cell_type": "code",
   "execution_count": 61,
   "metadata": {},
   "outputs": [
    {
     "data": {
      "image/png": "[encoded data removed]",
      "text/plain": [
       "<Figure size 432x288 with 1 Axes>"
      ]
     },
     "metadata": {
      "needs_background": "light"
     },
     "output_type": "display_data"
    }
   ],
   "source": [
    "# Let's plot accuracy sensitivity and specificity for various probabilities.\n",
    "cutoff_df.plot.line(x='prob', y=['accuracy','sensi','speci'])\n",
    "plt.vlines(x=0.5, ymax=1, ymin=0, colors=\"r\", linestyles=\"--\")\n",
    "plt.show()"
   ]
  },
  {
   "cell_type": "markdown",
   "metadata": {},
   "source": [
    "#### Optimal Probability Cutoff: 0.5"
   ]
  },
  {
   "cell_type": "code",
   "execution_count": 62,
   "metadata": {},
   "outputs": [
    {
     "data": {
      "text/plain": [
       "array([0.32224972, 0.51000949, 0.50576372, ..., 0.69704598, 0.45198933,\n",
       "       0.45198933])"
      ]
     },
     "execution_count": 62,
     "metadata": {},
     "output_type": "execute_result"
    }
   ],
   "source": [
    "# test set evaluation\n",
    "y_test_pred = lg_model_cv.predict_proba(X_test_ros)[:,1]\n",
    "y_test_pred"
   ]
  },
  {
   "cell_type": "code",
   "execution_count": 63,
   "metadata": {},
   "outputs": [
    {
     "data": {
      "text/html": [
       "<div>\n",
       "<style scoped>\n",
       "    .dataframe tbody tr th:only-of-type {\n",
       "        vertical-align: middle;\n",
       "    }\n",
       "\n",
       "    .dataframe tbody tr th {\n",
       "        vertical-align: top;\n",
       "    }\n",
       "\n",
       "    .dataframe thead th {\n",
       "        text-align: right;\n",
       "    }\n",
       "</style>\n",
       "<table border=\"1\" class=\"dataframe\">\n",
       "  <thead>\n",
       "    <tr style=\"text-align: right;\">\n",
       "      <th></th>\n",
       "      <th>Failure</th>\n",
       "      <th>Failure_Prob</th>\n",
       "    </tr>\n",
       "  </thead>\n",
       "  <tbody>\n",
       "    <tr>\n",
       "      <td>0</td>\n",
       "      <td>0</td>\n",
       "      <td>0.322250</td>\n",
       "    </tr>\n",
       "    <tr>\n",
       "      <td>1</td>\n",
       "      <td>0</td>\n",
       "      <td>0.510009</td>\n",
       "    </tr>\n",
       "    <tr>\n",
       "      <td>2</td>\n",
       "      <td>0</td>\n",
       "      <td>0.505764</td>\n",
       "    </tr>\n",
       "    <tr>\n",
       "      <td>3</td>\n",
       "      <td>0</td>\n",
       "      <td>0.456846</td>\n",
       "    </tr>\n",
       "    <tr>\n",
       "      <td>4</td>\n",
       "      <td>0</td>\n",
       "      <td>0.407326</td>\n",
       "    </tr>\n",
       "  </tbody>\n",
       "</table>\n",
       "</div>"
      ],
      "text/plain": [
       "   Failure  Failure_Prob\n",
       "0        0      0.322250\n",
       "1        0      0.510009\n",
       "2        0      0.505764\n",
       "3        0      0.456846\n",
       "4        0      0.407326"
      ]
     },
     "execution_count": 63,
     "metadata": {},
     "output_type": "execute_result"
    }
   ],
   "source": [
    "# Creating data frame with target variable and probabilities\n",
    "\n",
    "y_test_pred_prob = pd.DataFrame({'Failure':y_test_ros.values, 'Failure_Prob':y_test_pred})\n",
    "\n",
    "y_test_pred_prob.head()"
   ]
  },
  {
   "cell_type": "code",
   "execution_count": 64,
   "metadata": {},
   "outputs": [
    {
     "data": {
      "text/html": [
       "<div>\n",
       "<style scoped>\n",
       "    .dataframe tbody tr th:only-of-type {\n",
       "        vertical-align: middle;\n",
       "    }\n",
       "\n",
       "    .dataframe tbody tr th {\n",
       "        vertical-align: top;\n",
       "    }\n",
       "\n",
       "    .dataframe thead th {\n",
       "        text-align: right;\n",
       "    }\n",
       "</style>\n",
       "<table border=\"1\" class=\"dataframe\">\n",
       "  <thead>\n",
       "    <tr style=\"text-align: right;\">\n",
       "      <th></th>\n",
       "      <th>Failure</th>\n",
       "      <th>Failure_Prob</th>\n",
       "      <th>Failure_Pred</th>\n",
       "    </tr>\n",
       "  </thead>\n",
       "  <tbody>\n",
       "    <tr>\n",
       "      <td>0</td>\n",
       "      <td>0</td>\n",
       "      <td>0.322250</td>\n",
       "      <td>0</td>\n",
       "    </tr>\n",
       "    <tr>\n",
       "      <td>1</td>\n",
       "      <td>0</td>\n",
       "      <td>0.510009</td>\n",
       "      <td>1</td>\n",
       "    </tr>\n",
       "    <tr>\n",
       "      <td>2</td>\n",
       "      <td>0</td>\n",
       "      <td>0.505764</td>\n",
       "      <td>1</td>\n",
       "    </tr>\n",
       "    <tr>\n",
       "      <td>3</td>\n",
       "      <td>0</td>\n",
       "      <td>0.456846</td>\n",
       "      <td>0</td>\n",
       "    </tr>\n",
       "    <tr>\n",
       "      <td>4</td>\n",
       "      <td>0</td>\n",
       "      <td>0.407326</td>\n",
       "      <td>0</td>\n",
       "    </tr>\n",
       "  </tbody>\n",
       "</table>\n",
       "</div>"
      ],
      "text/plain": [
       "   Failure  Failure_Prob  Failure_Pred\n",
       "0        0      0.322250             0\n",
       "1        0      0.510009             1\n",
       "2        0      0.505764             1\n",
       "3        0      0.456846             0\n",
       "4        0      0.407326             0"
      ]
     },
     "execution_count": 64,
     "metadata": {},
     "output_type": "execute_result"
    }
   ],
   "source": [
    "# Create New columns 'Failure_Pred' by using 'Failure_Prob' values. 1 if churn_user_Prob > 0.5 else 0\n",
    "\n",
    "y_test_pred_prob['Failure_Pred'] = y_test_pred_prob.Failure_Prob.map(lambda x: 1 if x > 0.49 else 0)\n",
    "\n",
    "y_test_pred_prob.head()"
   ]
  },
  {
   "cell_type": "code",
   "execution_count": 65,
   "metadata": {},
   "outputs": [
    {
     "data": {
      "text/plain": [
       "count    53100.000000\n",
       "mean         0.475786\n",
       "std          0.114124\n",
       "min          0.095810\n",
       "25%          0.419961\n",
       "50%          0.451989\n",
       "75%          0.557196\n",
       "max          0.808618\n",
       "Name: Failure_Prob, dtype: float64"
      ]
     },
     "execution_count": 65,
     "metadata": {},
     "output_type": "execute_result"
    }
   ],
   "source": [
    "# Checking the distribution of probability, should be with in 0-1\n",
    "\n",
    "y_test_pred_prob['Failure_Prob'].describe()"
   ]
  },
  {
   "cell_type": "code",
   "execution_count": 66,
   "metadata": {},
   "outputs": [
    {
     "name": "stdout",
     "output_type": "stream",
     "text": [
      "              precision    recall  f1-score   support\n",
      "\n",
      "           0       0.45      0.57      0.50     26550\n",
      "           1       0.40      0.29      0.34     26550\n",
      "\n",
      "    accuracy                           0.43     53100\n",
      "   macro avg       0.42      0.43      0.42     53100\n",
      "weighted avg       0.42      0.43      0.42     53100\n",
      "\n"
     ]
    }
   ],
   "source": [
    "print(classification_report(y_test_pred_prob.Failure, y_test_pred_prob.Failure_Pred)) # check the classification report"
   ]
  },
  {
   "cell_type": "code",
   "execution_count": 67,
   "metadata": {},
   "outputs": [
    {
     "name": "stdout",
     "output_type": "stream",
     "text": [
      "[[15177 11373]\n",
      " [18855  7695]] \n",
      "\n",
      "Sensitivity (or) Recall score : 0.29\n",
      "Specificity: 0.57\n",
      "roc_auc_score: 0.43\n",
      "accuracy_score: 0.43\n"
     ]
    }
   ],
   "source": [
    "# Confusion matrix \n",
    "confusion = metrics.confusion_matrix(y_test_pred_prob.Failure, y_test_pred_prob.Failure_Pred )\n",
    "\n",
    "#confusion_matrix(confusion, actual_target, predicted_target):\n",
    "confusion_matrix(confusion,y_test_pred_prob.Failure, y_test_pred_prob.Failure_Pred)"
   ]
  },
  {
   "cell_type": "code",
   "execution_count": 68,
   "metadata": {},
   "outputs": [
    {
     "data": {
      "text/plain": [
       "1    26550\n",
       "0    26550\n",
       "Name: failure, dtype: int64"
      ]
     },
     "execution_count": 68,
     "metadata": {},
     "output_type": "execute_result"
    }
   ],
   "source": [
    "y_test_ros.value_counts()"
   ]
  },
  {
   "cell_type": "code",
   "execution_count": 69,
   "metadata": {},
   "outputs": [
    {
     "data": {
      "text/html": [
       "<div>\n",
       "<style scoped>\n",
       "    .dataframe tbody tr th:only-of-type {\n",
       "        vertical-align: middle;\n",
       "    }\n",
       "\n",
       "    .dataframe tbody tr th {\n",
       "        vertical-align: top;\n",
       "    }\n",
       "\n",
       "    .dataframe thead th {\n",
       "        text-align: right;\n",
       "    }\n",
       "</style>\n",
       "<table border=\"1\" class=\"dataframe\">\n",
       "  <thead>\n",
       "    <tr style=\"text-align: right;\">\n",
       "      <th></th>\n",
       "      <th>Model</th>\n",
       "      <th>ROC_AUC</th>\n",
       "    </tr>\n",
       "  </thead>\n",
       "  <tbody>\n",
       "    <tr>\n",
       "      <td>0</td>\n",
       "      <td>LG_Train</td>\n",
       "      <td>0.59</td>\n",
       "    </tr>\n",
       "    <tr>\n",
       "      <td>1</td>\n",
       "      <td>LG_Test</td>\n",
       "      <td>0.43</td>\n",
       "    </tr>\n",
       "  </tbody>\n",
       "</table>\n",
       "</div>"
      ],
      "text/plain": [
       "      Model  ROC_AUC\n",
       "0  LG_Train     0.59\n",
       "1   LG_Test     0.43"
      ]
     },
     "execution_count": 69,
     "metadata": {},
     "output_type": "execute_result"
    }
   ],
   "source": [
    "data_dict = {'Model':['LG_Train','LG_Test'],'ROC_AUC':[0.59,0.43]}\n",
    "result_df_0 = pd.DataFrame(data_dict)\n",
    "result_df_0"
   ]
  },
  {
   "cell_type": "markdown",
   "metadata": {},
   "source": [
    "<font color='Blue'>\n",
    "We can see clear overifitting in the Logistic Regression Model. To overcome Overfitting, we should try out with Regularization but instead of applying regularization here we can try XGBOOST which is robust due to its parallelization and also includes regularized term."
   ]
  },
  {
   "cell_type": "markdown",
   "metadata": {},
   "source": [
    "# Random Forest"
   ]
  },
  {
   "cell_type": "code",
   "execution_count": 70,
   "metadata": {},
   "outputs": [
    {
     "name": "stdout",
     "output_type": "stream",
     "text": [
      "Fitting 5 folds for each of 25 candidates, totalling 125 fits\n"
     ]
    },
    {
     "name": "stderr",
     "output_type": "stream",
     "text": [
      "[Parallel(n_jobs=-1)]: Using backend LokyBackend with 8 concurrent workers.\n",
      "[Parallel(n_jobs=-1)]: Done  34 tasks      | elapsed:   49.4s\n",
      "[Parallel(n_jobs=-1)]: Done 125 out of 125 | elapsed:  2.9min finished\n"
     ]
    }
   ],
   "source": [
    "# RandomForestClassifier \n",
    "RFC = RandomForestClassifier(random_state=42, n_jobs=-1,bootstrap=False,criterion='entropy')\n",
    "kfolds = StratifiedKFold(n_splits=5, random_state=42,shuffle=True)\n",
    "\n",
    "# Performing Cross Validation \n",
    "rfc_params = {'n_estimators':range(10,200,5),'max_depth':range(2,3),\n",
    "              'ccp_alpha':list(np.arange(2e-5,5.5e-5,0.65e-5))}\n",
    "\n",
    "rfc_model_cv = RandomizedSearchCV(estimator=RFC, param_distributions=rfc_params,n_iter=25, scoring='roc_auc', n_jobs=-1, \n",
    "                            cv=kfolds.split(X_train_ros,y_train_ros),verbose=1, return_train_score=True)\n",
    "rfc_model_cv.fit(X_train_ros,y_train_ros)\n",
    "\n",
    "rfc_cv_results = pd.DataFrame(rfc_model_cv.cv_results_)"
   ]
  },
  {
   "cell_type": "code",
   "execution_count": 71,
   "metadata": {},
   "outputs": [
    {
     "data": {
      "text/html": [
       "<div>\n",
       "<style scoped>\n",
       "    .dataframe tbody tr th:only-of-type {\n",
       "        vertical-align: middle;\n",
       "    }\n",
       "\n",
       "    .dataframe tbody tr th {\n",
       "        vertical-align: top;\n",
       "    }\n",
       "\n",
       "    .dataframe thead th {\n",
       "        text-align: right;\n",
       "    }\n",
       "</style>\n",
       "<table border=\"1\" class=\"dataframe\">\n",
       "  <thead>\n",
       "    <tr style=\"text-align: right;\">\n",
       "      <th></th>\n",
       "      <th>param_n_estimators</th>\n",
       "      <th>param_ccp_alpha</th>\n",
       "      <th>mean_test_score</th>\n",
       "      <th>rank_test_score</th>\n",
       "      <th>mean_train_score</th>\n",
       "    </tr>\n",
       "  </thead>\n",
       "  <tbody>\n",
       "    <tr>\n",
       "      <td>0</td>\n",
       "      <td>120</td>\n",
       "      <td>5.25e-05</td>\n",
       "      <td>0.851072</td>\n",
       "      <td>14</td>\n",
       "      <td>0.851098</td>\n",
       "    </tr>\n",
       "    <tr>\n",
       "      <td>1</td>\n",
       "      <td>125</td>\n",
       "      <td>3.95e-05</td>\n",
       "      <td>0.851098</td>\n",
       "      <td>12</td>\n",
       "      <td>0.851124</td>\n",
       "    </tr>\n",
       "    <tr>\n",
       "      <td>2</td>\n",
       "      <td>115</td>\n",
       "      <td>3.95e-05</td>\n",
       "      <td>0.850110</td>\n",
       "      <td>20</td>\n",
       "      <td>0.850181</td>\n",
       "    </tr>\n",
       "    <tr>\n",
       "      <td>3</td>\n",
       "      <td>70</td>\n",
       "      <td>4.6e-05</td>\n",
       "      <td>0.850977</td>\n",
       "      <td>15</td>\n",
       "      <td>0.851000</td>\n",
       "    </tr>\n",
       "    <tr>\n",
       "      <td>4</td>\n",
       "      <td>125</td>\n",
       "      <td>2.65e-05</td>\n",
       "      <td>0.851098</td>\n",
       "      <td>12</td>\n",
       "      <td>0.851124</td>\n",
       "    </tr>\n",
       "    <tr>\n",
       "      <td>5</td>\n",
       "      <td>185</td>\n",
       "      <td>3.3e-05</td>\n",
       "      <td>0.853679</td>\n",
       "      <td>2</td>\n",
       "      <td>0.853726</td>\n",
       "    </tr>\n",
       "    <tr>\n",
       "      <td>6</td>\n",
       "      <td>15</td>\n",
       "      <td>5.25e-05</td>\n",
       "      <td>0.843547</td>\n",
       "      <td>23</td>\n",
       "      <td>0.843573</td>\n",
       "    </tr>\n",
       "    <tr>\n",
       "      <td>7</td>\n",
       "      <td>160</td>\n",
       "      <td>3.3e-05</td>\n",
       "      <td>0.852130</td>\n",
       "      <td>6</td>\n",
       "      <td>0.852206</td>\n",
       "    </tr>\n",
       "    <tr>\n",
       "      <td>8</td>\n",
       "      <td>195</td>\n",
       "      <td>4.6e-05</td>\n",
       "      <td>0.853653</td>\n",
       "      <td>4</td>\n",
       "      <td>0.853700</td>\n",
       "    </tr>\n",
       "    <tr>\n",
       "      <td>9</td>\n",
       "      <td>20</td>\n",
       "      <td>5.25e-05</td>\n",
       "      <td>0.844280</td>\n",
       "      <td>22</td>\n",
       "      <td>0.844305</td>\n",
       "    </tr>\n",
       "    <tr>\n",
       "      <td>10</td>\n",
       "      <td>175</td>\n",
       "      <td>3.3e-05</td>\n",
       "      <td>0.853971</td>\n",
       "      <td>1</td>\n",
       "      <td>0.853994</td>\n",
       "    </tr>\n",
       "    <tr>\n",
       "      <td>11</td>\n",
       "      <td>60</td>\n",
       "      <td>4.6e-05</td>\n",
       "      <td>0.851861</td>\n",
       "      <td>7</td>\n",
       "      <td>0.851887</td>\n",
       "    </tr>\n",
       "    <tr>\n",
       "      <td>12</td>\n",
       "      <td>15</td>\n",
       "      <td>4.6e-05</td>\n",
       "      <td>0.843547</td>\n",
       "      <td>23</td>\n",
       "      <td>0.843573</td>\n",
       "    </tr>\n",
       "    <tr>\n",
       "      <td>13</td>\n",
       "      <td>145</td>\n",
       "      <td>5.25e-05</td>\n",
       "      <td>0.851131</td>\n",
       "      <td>9</td>\n",
       "      <td>0.851156</td>\n",
       "    </tr>\n",
       "    <tr>\n",
       "      <td>14</td>\n",
       "      <td>190</td>\n",
       "      <td>2.65e-05</td>\n",
       "      <td>0.853203</td>\n",
       "      <td>5</td>\n",
       "      <td>0.853228</td>\n",
       "    </tr>\n",
       "    <tr>\n",
       "      <td>15</td>\n",
       "      <td>185</td>\n",
       "      <td>3.95e-05</td>\n",
       "      <td>0.853679</td>\n",
       "      <td>2</td>\n",
       "      <td>0.853726</td>\n",
       "    </tr>\n",
       "    <tr>\n",
       "      <td>16</td>\n",
       "      <td>65</td>\n",
       "      <td>2.65e-05</td>\n",
       "      <td>0.850237</td>\n",
       "      <td>17</td>\n",
       "      <td>0.850262</td>\n",
       "    </tr>\n",
       "    <tr>\n",
       "      <td>17</td>\n",
       "      <td>65</td>\n",
       "      <td>2e-05</td>\n",
       "      <td>0.850237</td>\n",
       "      <td>17</td>\n",
       "      <td>0.850262</td>\n",
       "    </tr>\n",
       "    <tr>\n",
       "      <td>18</td>\n",
       "      <td>135</td>\n",
       "      <td>2e-05</td>\n",
       "      <td>0.851131</td>\n",
       "      <td>9</td>\n",
       "      <td>0.851156</td>\n",
       "    </tr>\n",
       "    <tr>\n",
       "      <td>19</td>\n",
       "      <td>105</td>\n",
       "      <td>3.3e-05</td>\n",
       "      <td>0.849021</td>\n",
       "      <td>21</td>\n",
       "      <td>0.849063</td>\n",
       "    </tr>\n",
       "    <tr>\n",
       "      <td>20</td>\n",
       "      <td>10</td>\n",
       "      <td>3.3e-05</td>\n",
       "      <td>0.835115</td>\n",
       "      <td>25</td>\n",
       "      <td>0.835176</td>\n",
       "    </tr>\n",
       "    <tr>\n",
       "      <td>21</td>\n",
       "      <td>150</td>\n",
       "      <td>5.25e-05</td>\n",
       "      <td>0.851131</td>\n",
       "      <td>9</td>\n",
       "      <td>0.851156</td>\n",
       "    </tr>\n",
       "    <tr>\n",
       "      <td>22</td>\n",
       "      <td>60</td>\n",
       "      <td>2.65e-05</td>\n",
       "      <td>0.851861</td>\n",
       "      <td>7</td>\n",
       "      <td>0.851887</td>\n",
       "    </tr>\n",
       "    <tr>\n",
       "      <td>23</td>\n",
       "      <td>45</td>\n",
       "      <td>4.6e-05</td>\n",
       "      <td>0.850137</td>\n",
       "      <td>19</td>\n",
       "      <td>0.850162</td>\n",
       "    </tr>\n",
       "    <tr>\n",
       "      <td>24</td>\n",
       "      <td>155</td>\n",
       "      <td>3.3e-05</td>\n",
       "      <td>0.850530</td>\n",
       "      <td>16</td>\n",
       "      <td>0.850724</td>\n",
       "    </tr>\n",
       "  </tbody>\n",
       "</table>\n",
       "</div>"
      ],
      "text/plain": [
       "   param_n_estimators param_ccp_alpha  mean_test_score  rank_test_score  \\\n",
       "0                 120        5.25e-05         0.851072               14   \n",
       "1                 125        3.95e-05         0.851098               12   \n",
       "2                 115        3.95e-05         0.850110               20   \n",
       "3                  70         4.6e-05         0.850977               15   \n",
       "4                 125        2.65e-05         0.851098               12   \n",
       "5                 185         3.3e-05         0.853679                2   \n",
       "6                  15        5.25e-05         0.843547               23   \n",
       "7                 160         3.3e-05         0.852130                6   \n",
       "8                 195         4.6e-05         0.853653                4   \n",
       "9                  20        5.25e-05         0.844280               22   \n",
       "10                175         3.3e-05         0.853971                1   \n",
       "11                 60         4.6e-05         0.851861                7   \n",
       "12                 15         4.6e-05         0.843547               23   \n",
       "13                145        5.25e-05         0.851131                9   \n",
       "14                190        2.65e-05         0.853203                5   \n",
       "15                185        3.95e-05         0.853679                2   \n",
       "16                 65        2.65e-05         0.850237               17   \n",
       "17                 65           2e-05         0.850237               17   \n",
       "18                135           2e-05         0.851131                9   \n",
       "19                105         3.3e-05         0.849021               21   \n",
       "20                 10         3.3e-05         0.835115               25   \n",
       "21                150        5.25e-05         0.851131                9   \n",
       "22                 60        2.65e-05         0.851861                7   \n",
       "23                 45         4.6e-05         0.850137               19   \n",
       "24                155         3.3e-05         0.850530               16   \n",
       "\n",
       "    mean_train_score  \n",
       "0           0.851098  \n",
       "1           0.851124  \n",
       "2           0.850181  \n",
       "3           0.851000  \n",
       "4           0.851124  \n",
       "5           0.853726  \n",
       "6           0.843573  \n",
       "7           0.852206  \n",
       "8           0.853700  \n",
       "9           0.844305  \n",
       "10          0.853994  \n",
       "11          0.851887  \n",
       "12          0.843573  \n",
       "13          0.851156  \n",
       "14          0.853228  \n",
       "15          0.853726  \n",
       "16          0.850262  \n",
       "17          0.850262  \n",
       "18          0.851156  \n",
       "19          0.849063  \n",
       "20          0.835176  \n",
       "21          0.851156  \n",
       "22          0.851887  \n",
       "23          0.850162  \n",
       "24          0.850724  "
      ]
     },
     "execution_count": 71,
     "metadata": {},
     "output_type": "execute_result"
    }
   ],
   "source": [
    "rfc_cv_results[['param_n_estimators','param_ccp_alpha','mean_test_score','rank_test_score','mean_train_score']]"
   ]
  },
  {
   "cell_type": "code",
   "execution_count": 72,
   "metadata": {},
   "outputs": [
    {
     "data": {
      "text/plain": [
       "RandomForestClassifier(bootstrap=False, ccp_alpha=3.3e-05, class_weight=None,\n",
       "                       criterion='entropy', max_depth=2, max_features='auto',\n",
       "                       max_leaf_nodes=None, max_samples=None,\n",
       "                       min_impurity_decrease=0.0, min_impurity_split=None,\n",
       "                       min_samples_leaf=1, min_samples_split=2,\n",
       "                       min_weight_fraction_leaf=0.0, n_estimators=175,\n",
       "                       n_jobs=-1, oob_score=False, random_state=42, verbose=0,\n",
       "                       warm_start=False)"
      ]
     },
     "execution_count": 72,
     "metadata": {},
     "output_type": "execute_result"
    }
   ],
   "source": [
    "# check for the best estimator\n",
    "rfc_model_cv.best_estimator_"
   ]
  },
  {
   "cell_type": "code",
   "execution_count": 73,
   "metadata": {},
   "outputs": [
    {
     "data": {
      "text/plain": [
       "RandomForestClassifier(bootstrap=False, ccp_alpha=3.3e-05, class_weight=None,\n",
       "                       criterion='entropy', max_depth=2, max_features='auto',\n",
       "                       max_leaf_nodes=None, max_samples=None,\n",
       "                       min_impurity_decrease=0.0, min_impurity_split=None,\n",
       "                       min_samples_leaf=1, min_samples_split=2,\n",
       "                       min_weight_fraction_leaf=0.0, n_estimators=175,\n",
       "                       n_jobs=-1, oob_score=False, random_state=42, verbose=0,\n",
       "                       warm_start=False)"
      ]
     },
     "execution_count": 73,
     "metadata": {},
     "output_type": "execute_result"
    }
   ],
   "source": [
    "RFC.set_params(**rfc_model_cv.best_estimator_.get_params())"
   ]
  },
  {
   "cell_type": "code",
   "execution_count": 74,
   "metadata": {},
   "outputs": [
    {
     "data": {
      "text/plain": [
       "array([0.29057858, 0.52244739, 0.29057858, ..., 0.6656143 , 0.6656143 ,\n",
       "       0.6656143 ])"
      ]
     },
     "execution_count": 74,
     "metadata": {},
     "output_type": "execute_result"
    }
   ],
   "source": [
    "rfc_y_train_pred_prob = RFC.fit(X_train_ros, y_train_ros).predict_proba(X_train_ros)[:,1]\n",
    "rfc_y_train_pred_prob"
   ]
  },
  {
   "cell_type": "code",
   "execution_count": 75,
   "metadata": {},
   "outputs": [
    {
     "data": {
      "text/plain": [
       "array([0.34433576, 0.52244739, 0.47508383, ..., 0.31154474, 0.34433576,\n",
       "       0.34433576])"
      ]
     },
     "execution_count": 75,
     "metadata": {},
     "output_type": "execute_result"
    }
   ],
   "source": [
    "rfc_y_test_pred_prob = RFC.predict_proba(X_test_ros)[:,1]\n",
    "rfc_y_test_pred_prob"
   ]
  },
  {
   "cell_type": "code",
   "execution_count": 76,
   "metadata": {},
   "outputs": [
    {
     "data": {
      "text/plain": [
       "array([0, 1, 0, ..., 1, 1, 1], dtype=int64)"
      ]
     },
     "execution_count": 76,
     "metadata": {},
     "output_type": "execute_result"
    }
   ],
   "source": [
    "# check the prediction with train set\n",
    "\n",
    "y_train_pred_rfc = rfc_model_cv.predict(X_train_ros)\n",
    "y_train_pred_rfc"
   ]
  },
  {
   "cell_type": "code",
   "execution_count": 77,
   "metadata": {},
   "outputs": [
    {
     "name": "stdout",
     "output_type": "stream",
     "text": [
      "[[59410 20239]\n",
      " [12498 67151]] \n",
      "\n",
      "Sensitivity (or) Recall score : 0.84\n",
      "Specificity: 0.75\n",
      "roc_auc_score: 0.79\n",
      "accuracy_score: 0.79\n"
     ]
    }
   ],
   "source": [
    "# Confusion matrix \n",
    "confusion = metrics.confusion_matrix(y_train_ros, y_train_pred_rfc)\n",
    "\n",
    "#confusion_matrix(confusion, actual_target, predicted_target):\n",
    "confusion_matrix(confusion,y_train_ros, y_train_pred_rfc)"
   ]
  },
  {
   "cell_type": "code",
   "execution_count": 78,
   "metadata": {},
   "outputs": [
    {
     "data": {
      "image/png": "[encoded data removed]",
      "text/plain": [
       "<Figure size 432x288 with 2 Axes>"
      ]
     },
     "metadata": {
      "needs_background": "light"
     },
     "output_type": "display_data"
    }
   ],
   "source": [
    "# Plot confusion matrix\n",
    "\n",
    "fig = figsize=(20,8)\n",
    "plt.figure()\n",
    "plot_confusion_matrix(confusion, classes=['Normal = 0','Failure = 1'],normalize= False,  title='Confusion matrix')"
   ]
  },
  {
   "cell_type": "code",
   "execution_count": 79,
   "metadata": {},
   "outputs": [
    {
     "data": {
      "text/plain": [
       "array([0, 1, 0, ..., 0, 0, 0], dtype=int64)"
      ]
     },
     "execution_count": 79,
     "metadata": {},
     "output_type": "execute_result"
    }
   ],
   "source": [
    "# check the prediction with test set\n",
    "\n",
    "y_test_pred_rfc = rfc_model_cv.predict(X_test_ros)\n",
    "y_test_pred_rfc"
   ]
  },
  {
   "cell_type": "code",
   "execution_count": 80,
   "metadata": {},
   "outputs": [
    {
     "name": "stdout",
     "output_type": "stream",
     "text": [
      "[[19815  6735]\n",
      " [15171 11379]] \n",
      "\n",
      "Sensitivity (or) Recall score : 0.43\n",
      "Specificity: 0.75\n",
      "roc_auc_score: 0.59\n",
      "accuracy_score: 0.59\n"
     ]
    }
   ],
   "source": [
    "# Confusion matrix \n",
    "confusion = metrics.confusion_matrix(y_test_ros, y_test_pred_rfc)\n",
    "\n",
    "#confusion_matrix(confusion, actual_target, predicted_target):\n",
    "confusion_matrix(confusion,y_test_ros, y_test_pred_rfc)"
   ]
  },
  {
   "cell_type": "code",
   "execution_count": 81,
   "metadata": {},
   "outputs": [
    {
     "data": {
      "text/html": [
       "<div>\n",
       "<style scoped>\n",
       "    .dataframe tbody tr th:only-of-type {\n",
       "        vertical-align: middle;\n",
       "    }\n",
       "\n",
       "    .dataframe tbody tr th {\n",
       "        vertical-align: top;\n",
       "    }\n",
       "\n",
       "    .dataframe thead th {\n",
       "        text-align: right;\n",
       "    }\n",
       "</style>\n",
       "<table border=\"1\" class=\"dataframe\">\n",
       "  <thead>\n",
       "    <tr style=\"text-align: right;\">\n",
       "      <th></th>\n",
       "      <th>Model</th>\n",
       "      <th>ROC_AUC</th>\n",
       "    </tr>\n",
       "  </thead>\n",
       "  <tbody>\n",
       "    <tr>\n",
       "      <td>0</td>\n",
       "      <td>RFC_Train</td>\n",
       "      <td>0.79</td>\n",
       "    </tr>\n",
       "    <tr>\n",
       "      <td>1</td>\n",
       "      <td>RFC_Test</td>\n",
       "      <td>0.59</td>\n",
       "    </tr>\n",
       "  </tbody>\n",
       "</table>\n",
       "</div>"
      ],
      "text/plain": [
       "       Model  ROC_AUC\n",
       "0  RFC_Train     0.79\n",
       "1   RFC_Test     0.59"
      ]
     },
     "execution_count": 81,
     "metadata": {},
     "output_type": "execute_result"
    }
   ],
   "source": [
    "data_dict = {'Model':['RFC_Train','RFC_Test'],'ROC_AUC':[0.79,0.59]}\n",
    "result_df_0 = pd.DataFrame(data_dict)\n",
    "result_df_0"
   ]
  },
  {
   "cell_type": "markdown",
   "metadata": {},
   "source": [
    "<font color='Blue'>\n",
    "We are seeing the same issue of overfitting similar to Logistic Regression"
   ]
  },
  {
   "cell_type": "markdown",
   "metadata": {},
   "source": [
    "# XGBOOST"
   ]
  },
  {
   "cell_type": "code",
   "execution_count": 82,
   "metadata": {},
   "outputs": [
    {
     "name": "stdout",
     "output_type": "stream",
     "text": [
      "Fitting 5 folds for each of 25 candidates, totalling 125 fits\n"
     ]
    },
    {
     "name": "stderr",
     "output_type": "stream",
     "text": [
      "[Parallel(n_jobs=-1)]: Using backend LokyBackend with 8 concurrent workers.\n",
      "[Parallel(n_jobs=-1)]: Done  34 tasks      | elapsed:    8.5s\n",
      "[Parallel(n_jobs=-1)]: Done 125 out of 125 | elapsed:   23.9s finished\n"
     ]
    }
   ],
   "source": [
    "#XGBClassifier\n",
    "xgbc = XGBClassifier(random_state=42, n_jobs=-1,seed=42)\n",
    "kfolds = StratifiedKFold(n_splits=5, random_state=42,shuffle=True)\n",
    "\n",
    "#perform cross validation \n",
    "xgbc_params = {'n_estimators':range(10,25,5),'max_depth':range(2,3),'min_child_weight':[0.2,0.4,0.6],\n",
    "               'learning_rate':list(np.arange(0.005,0.3,0.005)),'gamma':list(np.arange(0.0,0.5,0.05)),\n",
    "               'colsample_bytree':list(np.arange(0.1,1,0.01)),'subsample':list(np.arange(0.1,1.0,0.05))}\n",
    "\n",
    "xgbc_model_cv = RandomizedSearchCV(estimator=xgbc, param_distributions=xgbc_params,n_iter=25, scoring='roc_auc', n_jobs=-1, \n",
    "                            cv=kfolds.split(X_train_ros,y_train_ros),verbose=1, return_train_score=True)\n",
    "xgbc_model_cv.fit(X_train_ros,y_train_ros)\n",
    "\n",
    "xgbc_cv_results = pd.DataFrame(xgbc_model_cv.cv_results_)"
   ]
  },
  {
   "cell_type": "code",
   "execution_count": 83,
   "metadata": {},
   "outputs": [
    {
     "data": {
      "text/html": [
       "<div>\n",
       "<style scoped>\n",
       "    .dataframe tbody tr th:only-of-type {\n",
       "        vertical-align: middle;\n",
       "    }\n",
       "\n",
       "    .dataframe tbody tr th {\n",
       "        vertical-align: top;\n",
       "    }\n",
       "\n",
       "    .dataframe thead th {\n",
       "        text-align: right;\n",
       "    }\n",
       "</style>\n",
       "<table border=\"1\" class=\"dataframe\">\n",
       "  <thead>\n",
       "    <tr style=\"text-align: right;\">\n",
       "      <th></th>\n",
       "      <th>param_max_depth</th>\n",
       "      <th>param_n_estimators</th>\n",
       "      <th>mean_test_score</th>\n",
       "      <th>rank_test_score</th>\n",
       "      <th>mean_train_score</th>\n",
       "    </tr>\n",
       "  </thead>\n",
       "  <tbody>\n",
       "    <tr>\n",
       "      <td>0</td>\n",
       "      <td>2</td>\n",
       "      <td>10</td>\n",
       "      <td>0.865717</td>\n",
       "      <td>22</td>\n",
       "      <td>0.865829</td>\n",
       "    </tr>\n",
       "    <tr>\n",
       "      <td>1</td>\n",
       "      <td>2</td>\n",
       "      <td>10</td>\n",
       "      <td>0.899800</td>\n",
       "      <td>17</td>\n",
       "      <td>0.900199</td>\n",
       "    </tr>\n",
       "    <tr>\n",
       "      <td>2</td>\n",
       "      <td>2</td>\n",
       "      <td>20</td>\n",
       "      <td>0.918051</td>\n",
       "      <td>13</td>\n",
       "      <td>0.918186</td>\n",
       "    </tr>\n",
       "    <tr>\n",
       "      <td>3</td>\n",
       "      <td>2</td>\n",
       "      <td>20</td>\n",
       "      <td>0.908045</td>\n",
       "      <td>16</td>\n",
       "      <td>0.908173</td>\n",
       "    </tr>\n",
       "    <tr>\n",
       "      <td>4</td>\n",
       "      <td>2</td>\n",
       "      <td>15</td>\n",
       "      <td>0.954597</td>\n",
       "      <td>8</td>\n",
       "      <td>0.954837</td>\n",
       "    </tr>\n",
       "    <tr>\n",
       "      <td>5</td>\n",
       "      <td>2</td>\n",
       "      <td>20</td>\n",
       "      <td>0.943693</td>\n",
       "      <td>10</td>\n",
       "      <td>0.943941</td>\n",
       "    </tr>\n",
       "    <tr>\n",
       "      <td>6</td>\n",
       "      <td>2</td>\n",
       "      <td>20</td>\n",
       "      <td>0.959996</td>\n",
       "      <td>4</td>\n",
       "      <td>0.960029</td>\n",
       "    </tr>\n",
       "    <tr>\n",
       "      <td>7</td>\n",
       "      <td>2</td>\n",
       "      <td>10</td>\n",
       "      <td>0.889108</td>\n",
       "      <td>19</td>\n",
       "      <td>0.889172</td>\n",
       "    </tr>\n",
       "    <tr>\n",
       "      <td>8</td>\n",
       "      <td>2</td>\n",
       "      <td>10</td>\n",
       "      <td>0.855346</td>\n",
       "      <td>25</td>\n",
       "      <td>0.855631</td>\n",
       "    </tr>\n",
       "    <tr>\n",
       "      <td>9</td>\n",
       "      <td>2</td>\n",
       "      <td>20</td>\n",
       "      <td>0.911128</td>\n",
       "      <td>14</td>\n",
       "      <td>0.911294</td>\n",
       "    </tr>\n",
       "    <tr>\n",
       "      <td>10</td>\n",
       "      <td>2</td>\n",
       "      <td>20</td>\n",
       "      <td>0.956048</td>\n",
       "      <td>6</td>\n",
       "      <td>0.956206</td>\n",
       "    </tr>\n",
       "    <tr>\n",
       "      <td>11</td>\n",
       "      <td>2</td>\n",
       "      <td>10</td>\n",
       "      <td>0.926924</td>\n",
       "      <td>12</td>\n",
       "      <td>0.926977</td>\n",
       "    </tr>\n",
       "    <tr>\n",
       "      <td>12</td>\n",
       "      <td>2</td>\n",
       "      <td>10</td>\n",
       "      <td>0.930775</td>\n",
       "      <td>11</td>\n",
       "      <td>0.930818</td>\n",
       "    </tr>\n",
       "    <tr>\n",
       "      <td>13</td>\n",
       "      <td>2</td>\n",
       "      <td>10</td>\n",
       "      <td>0.893763</td>\n",
       "      <td>18</td>\n",
       "      <td>0.893839</td>\n",
       "    </tr>\n",
       "    <tr>\n",
       "      <td>14</td>\n",
       "      <td>2</td>\n",
       "      <td>20</td>\n",
       "      <td>0.963954</td>\n",
       "      <td>2</td>\n",
       "      <td>0.964092</td>\n",
       "    </tr>\n",
       "    <tr>\n",
       "      <td>15</td>\n",
       "      <td>2</td>\n",
       "      <td>15</td>\n",
       "      <td>0.947809</td>\n",
       "      <td>9</td>\n",
       "      <td>0.948055</td>\n",
       "    </tr>\n",
       "    <tr>\n",
       "      <td>16</td>\n",
       "      <td>2</td>\n",
       "      <td>10</td>\n",
       "      <td>0.910318</td>\n",
       "      <td>15</td>\n",
       "      <td>0.910535</td>\n",
       "    </tr>\n",
       "    <tr>\n",
       "      <td>17</td>\n",
       "      <td>2</td>\n",
       "      <td>20</td>\n",
       "      <td>0.956972</td>\n",
       "      <td>5</td>\n",
       "      <td>0.956842</td>\n",
       "    </tr>\n",
       "    <tr>\n",
       "      <td>18</td>\n",
       "      <td>2</td>\n",
       "      <td>15</td>\n",
       "      <td>0.955411</td>\n",
       "      <td>7</td>\n",
       "      <td>0.955402</td>\n",
       "    </tr>\n",
       "    <tr>\n",
       "      <td>19</td>\n",
       "      <td>2</td>\n",
       "      <td>20</td>\n",
       "      <td>0.968322</td>\n",
       "      <td>1</td>\n",
       "      <td>0.968375</td>\n",
       "    </tr>\n",
       "    <tr>\n",
       "      <td>20</td>\n",
       "      <td>2</td>\n",
       "      <td>20</td>\n",
       "      <td>0.963954</td>\n",
       "      <td>2</td>\n",
       "      <td>0.964092</td>\n",
       "    </tr>\n",
       "    <tr>\n",
       "      <td>21</td>\n",
       "      <td>2</td>\n",
       "      <td>15</td>\n",
       "      <td>0.862495</td>\n",
       "      <td>23</td>\n",
       "      <td>0.862562</td>\n",
       "    </tr>\n",
       "    <tr>\n",
       "      <td>22</td>\n",
       "      <td>2</td>\n",
       "      <td>10</td>\n",
       "      <td>0.861995</td>\n",
       "      <td>24</td>\n",
       "      <td>0.862082</td>\n",
       "    </tr>\n",
       "    <tr>\n",
       "      <td>23</td>\n",
       "      <td>2</td>\n",
       "      <td>15</td>\n",
       "      <td>0.887798</td>\n",
       "      <td>20</td>\n",
       "      <td>0.887816</td>\n",
       "    </tr>\n",
       "    <tr>\n",
       "      <td>24</td>\n",
       "      <td>2</td>\n",
       "      <td>10</td>\n",
       "      <td>0.883100</td>\n",
       "      <td>21</td>\n",
       "      <td>0.883236</td>\n",
       "    </tr>\n",
       "  </tbody>\n",
       "</table>\n",
       "</div>"
      ],
      "text/plain": [
       "   param_max_depth param_n_estimators  mean_test_score  rank_test_score  \\\n",
       "0                2                 10         0.865717               22   \n",
       "1                2                 10         0.899800               17   \n",
       "2                2                 20         0.918051               13   \n",
       "3                2                 20         0.908045               16   \n",
       "4                2                 15         0.954597                8   \n",
       "5                2                 20         0.943693               10   \n",
       "6                2                 20         0.959996                4   \n",
       "7                2                 10         0.889108               19   \n",
       "8                2                 10         0.855346               25   \n",
       "9                2                 20         0.911128               14   \n",
       "10               2                 20         0.956048                6   \n",
       "11               2                 10         0.926924               12   \n",
       "12               2                 10         0.930775               11   \n",
       "13               2                 10         0.893763               18   \n",
       "14               2                 20         0.963954                2   \n",
       "15               2                 15         0.947809                9   \n",
       "16               2                 10         0.910318               15   \n",
       "17               2                 20         0.956972                5   \n",
       "18               2                 15         0.955411                7   \n",
       "19               2                 20         0.968322                1   \n",
       "20               2                 20         0.963954                2   \n",
       "21               2                 15         0.862495               23   \n",
       "22               2                 10         0.861995               24   \n",
       "23               2                 15         0.887798               20   \n",
       "24               2                 10         0.883100               21   \n",
       "\n",
       "    mean_train_score  \n",
       "0           0.865829  \n",
       "1           0.900199  \n",
       "2           0.918186  \n",
       "3           0.908173  \n",
       "4           0.954837  \n",
       "5           0.943941  \n",
       "6           0.960029  \n",
       "7           0.889172  \n",
       "8           0.855631  \n",
       "9           0.911294  \n",
       "10          0.956206  \n",
       "11          0.926977  \n",
       "12          0.930818  \n",
       "13          0.893839  \n",
       "14          0.964092  \n",
       "15          0.948055  \n",
       "16          0.910535  \n",
       "17          0.956842  \n",
       "18          0.955402  \n",
       "19          0.968375  \n",
       "20          0.964092  \n",
       "21          0.862562  \n",
       "22          0.862082  \n",
       "23          0.887816  \n",
       "24          0.883236  "
      ]
     },
     "execution_count": 83,
     "metadata": {},
     "output_type": "execute_result"
    }
   ],
   "source": [
    "xgbc_cv_results[['param_max_depth','param_n_estimators','mean_test_score','rank_test_score','mean_train_score']]"
   ]
  },
  {
   "cell_type": "code",
   "execution_count": 84,
   "metadata": {},
   "outputs": [
    {
     "data": {
      "text/plain": [
       "XGBClassifier(base_score=0.5, booster='gbtree', colsample_bylevel=1,\n",
       "              colsample_bynode=1, colsample_bytree=0.13999999999999999,\n",
       "              gamma=0.25, gpu_id=-1, importance_type='gain',\n",
       "              interaction_constraints='', learning_rate=0.27, max_delta_step=0,\n",
       "              max_depth=2, min_child_weight=0.4, missing=nan,\n",
       "              monotone_constraints='()', n_estimators=20, n_jobs=-1,\n",
       "              num_parallel_tree=1, objective='binary:logistic', random_state=42,\n",
       "              reg_alpha=0, reg_lambda=1, scale_pos_weight=1, seed=42,\n",
       "              subsample=0.7500000000000002, tree_method='exact',\n",
       "              validate_parameters=1, verbosity=None)"
      ]
     },
     "execution_count": 84,
     "metadata": {},
     "output_type": "execute_result"
    }
   ],
   "source": [
    "# check for the best estimator\n",
    "xgbc_model_cv.best_estimator_"
   ]
  },
  {
   "cell_type": "code",
   "execution_count": 85,
   "metadata": {},
   "outputs": [
    {
     "data": {
      "text/plain": [
       "XGBClassifier(base_score=0.5, booster='gbtree', colsample_bylevel=1,\n",
       "              colsample_bynode=1, colsample_bytree=0.13999999999999999,\n",
       "              gamma=0.25, gpu_id=-1, importance_type='gain',\n",
       "              interaction_constraints='', learning_rate=0.27, max_delta_step=0,\n",
       "              max_depth=2, min_child_weight=0.4, missing=nan,\n",
       "              monotone_constraints='()', n_estimators=20, n_jobs=-1,\n",
       "              num_parallel_tree=1, objective='binary:logistic', random_state=42,\n",
       "              reg_alpha=0, reg_lambda=1, scale_pos_weight=1, seed=42,\n",
       "              subsample=0.7500000000000002, tree_method='exact',\n",
       "              validate_parameters=1, verbosity=None)"
      ]
     },
     "execution_count": 85,
     "metadata": {},
     "output_type": "execute_result"
    }
   ],
   "source": [
    "xgbc.set_params(**xgbc_model_cv.best_estimator_.get_params())"
   ]
  },
  {
   "cell_type": "code",
   "execution_count": 86,
   "metadata": {},
   "outputs": [
    {
     "data": {
      "text/plain": [
       "array([0.06063703, 0.70941436, 0.09762417, ..., 0.73630935, 0.8190404 ,\n",
       "       0.8190404 ], dtype=float32)"
      ]
     },
     "execution_count": 86,
     "metadata": {},
     "output_type": "execute_result"
    }
   ],
   "source": [
    "xgbc_y_train_pred_prob = xgbc.fit(X_train_ros, y_train_ros).predict_proba(X_train_ros)[:,1]\n",
    "xgbc_y_train_pred_prob"
   ]
  },
  {
   "cell_type": "code",
   "execution_count": 87,
   "metadata": {},
   "outputs": [
    {
     "data": {
      "text/plain": [
       "array([0.26479736, 0.78205293, 0.2837856 , ..., 0.05035188, 0.13755614,\n",
       "       0.13755614], dtype=float32)"
      ]
     },
     "execution_count": 87,
     "metadata": {},
     "output_type": "execute_result"
    }
   ],
   "source": [
    "xgbc_y_test_pred_prob = xgbc.predict_proba(X_test_ros)[:,1]\n",
    "xgbc_y_test_pred_prob"
   ]
  },
  {
   "cell_type": "code",
   "execution_count": 88,
   "metadata": {},
   "outputs": [
    {
     "data": {
      "text/plain": [
       "array([0, 1, 0, ..., 1, 1, 1], dtype=int64)"
      ]
     },
     "execution_count": 88,
     "metadata": {},
     "output_type": "execute_result"
    }
   ],
   "source": [
    "# check the prediction with train set\n",
    "\n",
    "y_train_pred_xgb = xgbc_model_cv.predict(X_train_ros)\n",
    "y_train_pred_xgb"
   ]
  },
  {
   "cell_type": "code",
   "execution_count": 89,
   "metadata": {},
   "outputs": [
    {
     "name": "stdout",
     "output_type": "stream",
     "text": [
      "[[66841 12808]\n",
      " [    0 79649]] \n",
      "\n",
      "Sensitivity (or) Recall score : 1.0\n",
      "Specificity: 0.84\n",
      "roc_auc_score: 0.92\n",
      "accuracy_score: 0.92\n"
     ]
    }
   ],
   "source": [
    "# Confusion matrix \n",
    "confusion = metrics.confusion_matrix(y_train_ros, y_train_pred_xgb)\n",
    "\n",
    "#confusion_matrix(confusion, actual_target, predicted_target):\n",
    "confusion_matrix(confusion,y_train_ros, y_train_pred_xgb)"
   ]
  },
  {
   "cell_type": "code",
   "execution_count": 90,
   "metadata": {},
   "outputs": [
    {
     "data": {
      "text/plain": [
       "array([0, 1, 0, ..., 0, 0, 0], dtype=int64)"
      ]
     },
     "execution_count": 90,
     "metadata": {},
     "output_type": "execute_result"
    }
   ],
   "source": [
    "# check the prediction with test set\n",
    "\n",
    "y_test_pred_xgb = xgbc_model_cv.predict(X_test_ros)\n",
    "y_test_pred_xgb"
   ]
  },
  {
   "cell_type": "code",
   "execution_count": 91,
   "metadata": {
    "scrolled": true
   },
   "outputs": [
    {
     "name": "stdout",
     "output_type": "stream",
     "text": [
      "[[22246  4304]\n",
      " [19123  7427]] \n",
      "\n",
      "Sensitivity (or) Recall score : 0.28\n",
      "Specificity: 0.84\n",
      "roc_auc_score: 0.56\n",
      "accuracy_score: 0.56\n"
     ]
    }
   ],
   "source": [
    "# Confusion matrix \n",
    "confusion = metrics.confusion_matrix(y_test_ros, y_test_pred_xgb)\n",
    "\n",
    "#confusion_matrix(confusion, actual_target, predicted_target):\n",
    "confusion_matrix(confusion,y_test_ros, y_test_pred_xgb)"
   ]
  },
  {
   "cell_type": "markdown",
   "metadata": {},
   "source": [
    "# Summary"
   ]
  },
  {
   "cell_type": "markdown",
   "metadata": {},
   "source": [
    "With Permutations and Combinations of Hyper Paramters in each algorithm, we should minimize false negatives and positives of the models. With the applied models (Logistics Regression, Random Forest and XGBoost) of all the combinations, results are still need to be tuned. Looking at the data, Support Vector Machine may help but due to system limitation unable to run and share the results."
   ]
  }
 ],
 "metadata": {
  "kernelspec": {
   "display_name": "Python 3",
   "language": "python",
   "name": "python3"
  },
  "language_info": {
   "codemirror_mode": {
    "name": "ipython",
    "version": 3
   },
   "file_extension": ".py",
   "mimetype": "text/x-python",
   "name": "python",
   "nbconvert_exporter": "python",
   "pygments_lexer": "ipython3",
   "version": "3.7.4"
  }
 },
 "nbformat": 4,
 "nbformat_minor": 2
}
