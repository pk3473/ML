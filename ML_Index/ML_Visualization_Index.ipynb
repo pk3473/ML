{
 "cells": [
  {
   "cell_type": "code",
   "execution_count": null,
   "metadata": {},
   "outputs": [],
   "source": [
    "# Required Libraries\n",
    "\n",
    "import numpy as np\n",
    "import pandas as pd\n",
    "import matplotlib.pyplot as plt \n",
    "import seaborn as sns"
   ]
  },
  {
   "cell_type": "code",
   "execution_count": null,
   "metadata": {},
   "outputs": [],
   "source": [
    "# Scatter Plot \n",
    "\n",
    "plt.figure(figsize=(10,5))\n",
    "sns.pairplot(CarPrice_Assignment) # Data frame\n",
    "plt.show()\n",
    "\n",
    "\n",
    "fig = plt.figure(figsize=[10,6])\n",
    "sns.scatterplot(data=df_pca_final)\n",
    "plt.show()\n",
    "\n",
    "\n",
    "fig = plt.figure(figsize=[10,5])\n",
    "sns.scatterplot(x='income',y='child_mort',hue = 'cluster_id',data=df2)\n",
    "plt.show()\n"
   ]
  },
  {
   "cell_type": "code",
   "execution_count": null,
   "metadata": {},
   "outputs": [],
   "source": [
    "# Heat Map\n",
    "\n",
    "plt.figure(figsize=(20,10))\n",
    "sns.heatmap(CarPrice_Assignment.corr(),cmap=\"YlGnBu\",annot=True)\n",
    "plt.show()"
   ]
  },
  {
   "cell_type": "code",
   "execution_count": null,
   "metadata": {},
   "outputs": [],
   "source": [
    "# Box plot\n",
    "\n",
    "plt.figure(figsize=(8, 5))\n",
    "sns.boxplot(x = 'symboling', y = 'price', data = CarPrice_Assignment)\n",
    "plt.show()\n",
    "\n",
    "\n",
    "# 6X2 Subplots\n",
    "\n",
    "\n",
    "fig, axes = plt.subplots(6,2, figsize= (15,20))\n",
    "count = 0\n",
    "for i in CarPrice_Assignment[num_list].columns:\n",
    "    ax = axes[count//2, count%2]\n",
    "    sns.boxplot(y = i, data = CarPrice_Assignment, ax = ax)\n",
    "    count+=1\n",
    "fig.suptitle('Univeriate analysis for numeric values',fontsize=15,x =0.5, y=0.95)\n",
    "fig.subplots_adjust(wspace=0.2,hspace=0.2 ) # adjsut spaces between subplots width and height\n",
    "plt.show()"
   ]
  },
  {
   "cell_type": "code",
   "execution_count": null,
   "metadata": {},
   "outputs": [],
   "source": [
    "# Box Plot\n",
    "\n",
    "fig = plt.figure(figsize=[10,6])\n",
    "plt.boxplot(df_pca_final.PC1)\n",
    "plt.show()"
   ]
  },
  {
   "cell_type": "code",
   "execution_count": null,
   "metadata": {},
   "outputs": [],
   "source": [
    "# Histogram\n",
    "\n",
    "plt.figure(figsize = (8,4))\n",
    "sns.distplot(df['SalePrice'])\n",
    "plt.show()"
   ]
  },
  {
   "cell_type": "code",
   "execution_count": null,
   "metadata": {},
   "outputs": [],
   "source": [
    "# Boxen Plots\n",
    "\n",
    "fig = plt.figure(figsize=(20, 10)) \n",
    "fig.suptitle('Univariate analysis on numerical values',fontsize=20,x =0.5, y=1)\n",
    "\n",
    "plt.subplot(231)\n",
    "sns.boxenplot(y = 'LotFrontage', data = df)"
   ]
  },
  {
   "cell_type": "code",
   "execution_count": null,
   "metadata": {},
   "outputs": [],
   "source": [
    "# Display settings \n",
    "\n",
    "pd.set_option('display.max_rows', 150)\n",
    "pd.set_option('display.max_columns', 150)\n",
    "pd.set_option('max_info_columns', 500)\n",
    "pd.set_option('max_info_rows', 500)"
   ]
  },
  {
   "cell_type": "code",
   "execution_count": null,
   "metadata": {},
   "outputs": [],
   "source": []
  }
 ],
 "metadata": {
  "kernelspec": {
   "display_name": "Python 3",
   "language": "python",
   "name": "python3"
  },
  "language_info": {
   "codemirror_mode": {
    "name": "ipython",
    "version": 3
   },
   "file_extension": ".py",
   "mimetype": "text/x-python",
   "name": "python",
   "nbconvert_exporter": "python",
   "pygments_lexer": "ipython3",
   "version": "3.7.4"
  }
 },
 "nbformat": 4,
 "nbformat_minor": 2
}
