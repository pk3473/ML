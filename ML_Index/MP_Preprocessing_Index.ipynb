{
 "cells": [
  {
   "cell_type": "markdown",
   "metadata": {},
   "source": [
    "## Index\n",
    "\n",
    "1. Reading the Datasets\n",
    "2. Checking the Shape\n",
    "3. Checking the types of columns\n",
    "4. Describe the columns\n",
    "5. Removing Rows\n",
    "6. Checking Missing Values \n",
    "7. Removing leading and trailing spaces\n",
    "8. Dropping columns\n",
    "9. About iloc and loc\n",
    "10. Transpose the Dataframe\n",
    "11. Sorting the data frame\n",
    "12. Renaming the index\n",
    "13. Creating Quantiles\n",
    "14. Setting Index\n",
    "15. Renaming the columns\n",
    "16. Selecting specific columns\n",
    "17. Merging dataframes\n",
    "18. Changing the datatype\n",
    "19. Selecting column using 'where'"
   ]
  },
  {
   "cell_type": "code",
   "execution_count": null,
   "metadata": {},
   "outputs": [],
   "source": [
    "import warnings\n",
    "warnings.filterwarnings('ignore')"
   ]
  },
  {
   "cell_type": "code",
   "execution_count": null,
   "metadata": {},
   "outputs": [],
   "source": [
    "# 1. Reading the datasets\n",
    "    \n",
    "df_data = pd.read_csv('Data_I_A.csv')\n",
    "\n",
    "df = pd.read_csv('csv_file_name', encoding = \"ISO-8859-1\")\n",
    "\n",
    "# Extracting from URL\n",
    "\n",
    "url = \"https://www.gutenberg.org/files/11/11-0.txt\"\n",
    "alice = requests.get(url)\n",
    "print(alice.text)"
   ]
  },
  {
   "cell_type": "code",
   "execution_count": null,
   "metadata": {},
   "outputs": [],
   "source": [
    "# 2. checking the shape\n",
    "\n",
    "df_data.shape"
   ]
  },
  {
   "cell_type": "code",
   "execution_count": null,
   "metadata": {},
   "outputs": [],
   "source": [
    "# 3. checking for type of all columns\n",
    "\n",
    "df_drop_out.info()"
   ]
  },
  {
   "cell_type": "code",
   "execution_count": null,
   "metadata": {},
   "outputs": [],
   "source": [
    "# 4. Describing the columns\n",
    "\n",
    "df.describe()"
   ]
  },
  {
   "cell_type": "code",
   "execution_count": null,
   "metadata": {},
   "outputs": [],
   "source": [
    "# 5. Removing rows (Column: Duration & Rows: 2016-2017 & 2012-2013)\n",
    "\n",
    "df_data = df_data.loc[(~((df_data['Duration']=='2016-17') | (df_data['Duration']=='2012-13')))]\n",
    "\n",
    "df_GDSP = df[df['Items  Description'].isin(['GSDP - CURRENT PRICES (` in Crore)','(% Growth over previous year)'])]\n",
    "\n",
    "\n",
    "#Checking 'XNA' from Column 'CODE_GENDER'\n",
    "\n",
    "data_Fil['CODE_GENDER'].loc[data_Fil['CODE_GENDER']=='XNA']\n",
    "\n",
    "\n",
    "#Delete 'XNA' from GENDER column\n",
    "\n",
    "data_Fil = data_Fil[~data_Fil.CODE_GENDER.str.contains('XNA')]"
   ]
  },
  {
   "cell_type": "code",
   "execution_count": null,
   "metadata": {},
   "outputs": [],
   "source": [
    "# 6. Cheking missing values in each column\n",
    "\n",
    "(df_data.isnull().sum())\n",
    "\n",
    "\n",
    "# Checking missing values of row wise\n",
    "\n",
    "df_GSDP_2015_16_t.isnull().sum(axis=1)\n",
    "\n",
    "\n",
    "# Removing all missing/null values\n",
    "\n",
    "df_GSDP_2015_16_t.dropna(how = 'any', axis = 0, inplace = True)\n",
    "\n",
    "\n",
    "# Consider only 15% missing values list \n",
    "\n",
    "data_missing_data_fil_list = data_missing_list<15\n",
    "\n",
    "\n",
    "# Removing all columns having missing data more than 15%\n",
    "\n",
    "data_Fil = data.loc[:,data_missing_data_fil_list] "
   ]
  },
  {
   "cell_type": "code",
   "execution_count": null,
   "metadata": {},
   "outputs": [],
   "source": [
    "# 7. Removing leading and trailing spaces in the dataframe\n",
    "\n",
    "df_data.columns = df_data.columns.str.strip()"
   ]
  },
  {
   "cell_type": "code",
   "execution_count": null,
   "metadata": {},
   "outputs": [],
   "source": [
    "# 8. Dropping column 'West Bengal1'\n",
    "\n",
    "df_data.drop(columns = 'West Bengal1', inplace = True)"
   ]
  },
  {
   "cell_type": "code",
   "execution_count": null,
   "metadata": {},
   "outputs": [],
   "source": [
    "# 9. Learn about iloc and loc's\n",
    "\n"
   ]
  },
  {
   "cell_type": "code",
   "execution_count": null,
   "metadata": {},
   "outputs": [],
   "source": [
    "# 10. transpose the data frame\n",
    "\n",
    "df_GSDP_mean_t = df_GSDP_mean.transpose()\n",
    "\n",
    "\n",
    "# Transpose the data frame(Columns into Rows)\n",
    "\n",
    "df = pd.melt(df, id_vars=[\"Items  Description\",\"Duration\"],var_name=\"State\", value_name=\"GDSP\")"
   ]
  },
  {
   "cell_type": "code",
   "execution_count": null,
   "metadata": {},
   "outputs": [],
   "source": [
    "# 11. Sorting the data frame based on a column: % Growth over previous year\n",
    "\n",
    "df_GSDP_mean_t.sort_values(by = '(% Growth over previous year)', ascending = False, inplace= True)"
   ]
  },
  {
   "cell_type": "code",
   "execution_count": null,
   "metadata": {},
   "outputs": [],
   "source": [
    "# 12. Renaming the index\n",
    "\n",
    "df_states = df_combined.rename_axis(index = 'State Name', columns = '')\n",
    "\n",
    "\n",
    "# Viewing the Index values\n",
    "\n",
    "df_GDP_per_Capita.index"
   ]
  },
  {
   "cell_type": "code",
   "execution_count": null,
   "metadata": {},
   "outputs": [],
   "source": [
    "# 13. Creating quantiles based on column 'Per Capita GSDP (Rs.)'\n",
    "\n",
    "quantile_bins = (df_states['Per Capita GSDP (Rs.)'].quantile([0,0.2,0.5,0.85,1]).values).round(2)"
   ]
  },
  {
   "cell_type": "code",
   "execution_count": null,
   "metadata": {},
   "outputs": [],
   "source": [
    "# 14. Set Index\n",
    "\n",
    "df_drop_out.set_index('Level of Education - State', inplace= True)"
   ]
  },
  {
   "cell_type": "code",
   "execution_count": null,
   "metadata": {},
   "outputs": [],
   "source": [
    "# 15. Renaming the columns\n",
    "\n",
    "df_drop_out.rename(columns = {'Primary - 2014-2015':'Primary - 2013-2014', \n",
    "                              'Primary - 2014-2015.1': 'Primary - 2014-2015'}, inplace = True)"
   ]
  },
  {
   "cell_type": "code",
   "execution_count": null,
   "metadata": {},
   "outputs": [],
   "source": [
    "# 16. creating new dataframe based on selected columns\n",
    "\n",
    "df_Capita = df_states[['Per Capita GSDP (Rs.)']]"
   ]
  },
  {
   "cell_type": "code",
   "execution_count": null,
   "metadata": {},
   "outputs": [],
   "source": [
    "# 17. Merging two dataframes\n",
    "\n",
    "df_combine = pd.merge(df_GDP_per_Capita,df_drop_out_2014_15 ,left_index=True, right_index=True)"
   ]
  },
  {
   "cell_type": "code",
   "execution_count": null,
   "metadata": {},
   "outputs": [],
   "source": [
    "# 18. Changing the data type of columns\n",
    "\n",
    "df_states = df_states.astype({'Crops':int, 'Livestock':int,\"Population ('00)\":int,\"Gross State Domestic Product\":int,'Primary':int,\n",
    "                             'Secondary':int,'Tertiary':int,'Per Capita GSDP (Rs.)':int})"
   ]
  },
  {
   "cell_type": "code",
   "execution_count": null,
   "metadata": {},
   "outputs": [],
   "source": [
    "# 19. Selecting Column using 'where' clause\n",
    "\n",
    "data_Fil_Def = data_Fil.loc[data_Fil['TARGET']==1] # defaulters"
   ]
  },
  {
   "cell_type": "code",
   "execution_count": null,
   "metadata": {},
   "outputs": [],
   "source": [
    "# 20. Handling categorical columns with Lambda function\n",
    "\n",
    "CarPrice_Assignment['fueltype']=CarPrice_Assignment['fueltype'].apply(lambda x: 1 if x==\"gas\" else 0)"
   ]
  },
  {
   "cell_type": "code",
   "execution_count": null,
   "metadata": {},
   "outputs": [],
   "source": []
  }
 ],
 "metadata": {
  "kernelspec": {
   "display_name": "Python 3",
   "language": "python",
   "name": "python3"
  },
  "language_info": {
   "codemirror_mode": {
    "name": "ipython",
    "version": 3
   },
   "file_extension": ".py",
   "mimetype": "text/x-python",
   "name": "python",
   "nbconvert_exporter": "python",
   "pygments_lexer": "ipython3",
   "version": "3.7.4"
  }
 },
 "nbformat": 4,
 "nbformat_minor": 2
}
